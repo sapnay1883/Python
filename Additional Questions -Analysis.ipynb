{
 "cells": [
  {
   "cell_type": "markdown",
   "id": "331bce4b",
   "metadata": {},
   "source": [
    " # Additional Questions"
   ]
  },
  {
   "cell_type": "markdown",
   "id": "dab1b6cc",
   "metadata": {},
   "source": [
    "# Exploratory Data Analysis- Team-1"
   ]
  },
  {
   "cell_type": "code",
   "execution_count": 2,
   "id": "3842a5d8",
   "metadata": {},
   "outputs": [],
   "source": [
    "# importing Libraries\n",
    "\n",
    "import numpy as np\n",
    "import pandas as pd\n",
    "import matplotlib.pyplot as plt\n",
    "import seaborn as sb\n",
    "\n",
    "#Loading the dataset\n",
    "\n",
    "Patients    = pd.read_excel('patients.xlsx')\n",
    "EDVisits    = pd.read_excel('EDVisits.xlsx')\n",
    "AmbulatoryVisits   = pd.read_excel('AmbulatoryVisits.xlsx')\n",
    "ReAdmissionRegistry    = pd.read_excel('ReAdmissionRegistry.xlsx')\n",
    "Discharges   = pd.read_excel('Discharges.xlsx')\n",
    "Providers   = pd.read_excel('Providers.xlsx')\n",
    "EDUnique    = pd.read_excel('EDUnique.xlsx')\n",
    "\n",
    "\n",
    "df = pd.read_excel(\"HospitalDatabase.xlsx\", \n",
    "                        sheet_name=[\"Patients\",\"EDVisits\",\"AmbulatoryVisits\",\"ReAdmissionRegistry\",\"Discharges\",\"Providers\",\"EDUnique\"])"
   ]
  },
  {
   "cell_type": "code",
   "execution_count": 7,
   "id": "9503fdd2",
   "metadata": {},
   "outputs": [
    {
     "data": {
      "text/plain": [
       "dict_keys(['Patients', 'EDVisits', 'AmbulatoryVisits', 'ReAdmissionRegistry', 'Discharges', 'Providers', 'EDUnique'])"
      ]
     },
     "execution_count": 7,
     "metadata": {},
     "output_type": "execute_result"
    }
   ],
   "source": [
    "# sheets names in dataset\n",
    "\n",
    "df = pd.read_excel('HospitalDatabase.xlsx', sheet_name=['Patients','EDVisits','AmbulatoryVisits','ReAdmissionRegistry','Discharges',\n",
    "                                                    'Providers','EDUnique'])\n",
    "df.keys()"
   ]
  },
  {
   "cell_type": "markdown",
   "id": "340bb97c",
   "metadata": {},
   "source": [
    "# Analysis on Patients sheet"
   ]
  },
  {
   "cell_type": "markdown",
   "id": "c295ddec",
   "metadata": {},
   "source": [
    "### 1. Explore patients dataset"
   ]
  },
  {
   "cell_type": "code",
   "execution_count": 166,
   "id": "72d05e7d",
   "metadata": {},
   "outputs": [
    {
     "data": {
      "text/plain": [
       "(945, 7)"
      ]
     },
     "execution_count": 166,
     "metadata": {},
     "output_type": "execute_result"
    }
   ],
   "source": [
    "\n",
    "\n",
    "#Numbers of rows & columns in the data sheet patients.\n",
    "\n",
    "patients=df['Patients']\n",
    "patients.shape\n"
   ]
  },
  {
   "cell_type": "markdown",
   "id": "0d6b274f",
   "metadata": {},
   "source": [
    "### 2. Display heading"
   ]
  },
  {
   "cell_type": "code",
   "execution_count": 169,
   "id": "f1a29493",
   "metadata": {},
   "outputs": [
    {
     "data": {
      "text/html": [
       "<div>\n",
       "<style scoped>\n",
       "    .dataframe tbody tr th:only-of-type {\n",
       "        vertical-align: middle;\n",
       "    }\n",
       "\n",
       "    .dataframe tbody tr th {\n",
       "        vertical-align: top;\n",
       "    }\n",
       "\n",
       "    .dataframe thead th {\n",
       "        text-align: right;\n",
       "    }\n",
       "</style>\n",
       "<table border=\"1\" class=\"dataframe\">\n",
       "  <thead>\n",
       "    <tr style=\"text-align: right;\">\n",
       "      <th></th>\n",
       "      <th>PatientID</th>\n",
       "      <th>FirstName</th>\n",
       "      <th>LastName</th>\n",
       "      <th>DateOfBirth</th>\n",
       "      <th>Gender</th>\n",
       "      <th>Race</th>\n",
       "      <th>Language</th>\n",
       "    </tr>\n",
       "  </thead>\n",
       "  <tbody>\n",
       "    <tr>\n",
       "      <th>0</th>\n",
       "      <td>1</td>\n",
       "      <td>Lanni</td>\n",
       "      <td>Sue</td>\n",
       "      <td>1960-01-01 00:00:00.000</td>\n",
       "      <td>Male</td>\n",
       "      <td>White</td>\n",
       "      <td>English</td>\n",
       "    </tr>\n",
       "    <tr>\n",
       "      <th>1</th>\n",
       "      <td>2</td>\n",
       "      <td>Far</td>\n",
       "      <td>Myers</td>\n",
       "      <td>1985-11-15 02:08:42.090</td>\n",
       "      <td>Male</td>\n",
       "      <td>White</td>\n",
       "      <td>English</td>\n",
       "    </tr>\n",
       "    <tr>\n",
       "      <th>2</th>\n",
       "      <td>3</td>\n",
       "      <td>Devlin</td>\n",
       "      <td>Michael</td>\n",
       "      <td>1976-04-15 02:52:09.762</td>\n",
       "      <td>Male</td>\n",
       "      <td>White</td>\n",
       "      <td>English</td>\n",
       "    </tr>\n",
       "    <tr>\n",
       "      <th>3</th>\n",
       "      <td>4</td>\n",
       "      <td>Carmine</td>\n",
       "      <td>Texas</td>\n",
       "      <td>1968-10-15 03:32:13.635</td>\n",
       "      <td>Male</td>\n",
       "      <td>White</td>\n",
       "      <td>English</td>\n",
       "    </tr>\n",
       "    <tr>\n",
       "      <th>4</th>\n",
       "      <td>5</td>\n",
       "      <td>Tann</td>\n",
       "      <td>Bama</td>\n",
       "      <td>1962-05-01 19:12:58.950</td>\n",
       "      <td>Male</td>\n",
       "      <td>White</td>\n",
       "      <td>English</td>\n",
       "    </tr>\n",
       "  </tbody>\n",
       "</table>\n",
       "</div>"
      ],
      "text/plain": [
       "   PatientID FirstName LastName             DateOfBirth Gender   Race Language\n",
       "0          1     Lanni      Sue 1960-01-01 00:00:00.000   Male  White  English\n",
       "1          2       Far    Myers 1985-11-15 02:08:42.090   Male  White  English\n",
       "2          3   Devlin   Michael 1976-04-15 02:52:09.762   Male  White  English\n",
       "3          4   Carmine    Texas 1968-10-15 03:32:13.635   Male  White  English\n",
       "4          5     Tann      Bama 1962-05-01 19:12:58.950   Male  White  English"
      ]
     },
     "execution_count": 169,
     "metadata": {},
     "output_type": "execute_result"
    }
   ],
   "source": [
    "Patients.head()"
   ]
  },
  {
   "cell_type": "markdown",
   "id": "6dc52a79",
   "metadata": {},
   "source": [
    "###Find the duplicates"
   ]
  },
  {
   "cell_type": "code",
   "execution_count": 173,
   "id": "681c2ce6",
   "metadata": {},
   "outputs": [
    {
     "data": {
      "text/plain": [
       "0"
      ]
     },
     "execution_count": 173,
     "metadata": {},
     "output_type": "execute_result"
    }
   ],
   "source": [
    "patients.duplicated().sum()"
   ]
  },
  {
   "cell_type": "markdown",
   "id": "f31a581a",
   "metadata": {},
   "source": [
    "### 3. checking data type of columns"
   ]
  },
  {
   "cell_type": "code",
   "execution_count": 170,
   "id": "2cdbb5cd",
   "metadata": {
    "scrolled": true
   },
   "outputs": [
    {
     "name": "stdout",
     "output_type": "stream",
     "text": [
      "<class 'pandas.core.frame.DataFrame'>\n",
      "RangeIndex: 945 entries, 0 to 944\n",
      "Data columns (total 7 columns):\n",
      " #   Column       Non-Null Count  Dtype         \n",
      "---  ------       --------------  -----         \n",
      " 0   PatientID    945 non-null    float64       \n",
      " 1   FirstName    945 non-null    object        \n",
      " 2   LastName     945 non-null    object        \n",
      " 3   DateOfBirth  945 non-null    datetime64[ns]\n",
      " 4   Gender       945 non-null    object        \n",
      " 5   Race         945 non-null    object        \n",
      " 6   Language     937 non-null    object        \n",
      "dtypes: datetime64[ns](1), float64(1), object(5)\n",
      "memory usage: 51.8+ KB\n"
     ]
    }
   ],
   "source": [
    "patients.info()    \n"
   ]
  },
  {
   "cell_type": "markdown",
   "id": "5c1f7f44",
   "metadata": {},
   "source": [
    "### 4. unique values"
   ]
  },
  {
   "cell_type": "code",
   "execution_count": 187,
   "id": "f122614c",
   "metadata": {},
   "outputs": [
    {
     "data": {
      "text/plain": [
       "array(['English', 'Spanish', nan], dtype=object)"
      ]
     },
     "execution_count": 187,
     "metadata": {},
     "output_type": "execute_result"
    }
   ],
   "source": [
    "patients['Gender'].unique()\n",
    "\n",
    "patients['Race'].unique()\n",
    "\n",
    "patients['Language'].unique()\n"
   ]
  },
  {
   "cell_type": "markdown",
   "id": "ebae6567",
   "metadata": {},
   "source": [
    "### 5.  Plot the unique values"
   ]
  },
  {
   "cell_type": "code",
   "execution_count": 183,
   "id": "476717bc",
   "metadata": {
    "scrolled": true
   },
   "outputs": [
    {
     "name": "stderr",
     "output_type": "stream",
     "text": [
      "C:\\Users\\Vaishali\\Anaconda-Setup\\lib\\site-packages\\seaborn\\_decorators.py:36: FutureWarning: Pass the following variable as a keyword arg: x. From version 0.12, the only valid positional argument will be `data`, and passing other arguments without an explicit keyword will result in an error or misinterpretation.\n",
      "  warnings.warn(\n"
     ]
    },
    {
     "data": {
      "text/plain": [
       "<AxesSubplot:xlabel='Gender', ylabel='count'>"
      ]
     },
     "execution_count": 183,
     "metadata": {},
     "output_type": "execute_result"
    },
    {
     "data": {
      "image/png": "[encoded data removed]",
      "text/plain": [
       "<Figure size 432x288 with 1 Axes>"
      ]
     },
     "metadata": {},
     "output_type": "display_data"
    }
   ],
   "source": [
    "\n",
    "\n",
    "sns.countplot(patients['Gender'])"
   ]
  },
  {
   "cell_type": "markdown",
   "id": "b00768b6",
   "metadata": {},
   "source": [
    "###  6. there are null values in each column"
   ]
  },
  {
   "cell_type": "code",
   "execution_count": 171,
   "id": "e9457112",
   "metadata": {},
   "outputs": [
    {
     "data": {
      "text/plain": [
       "PatientID      0\n",
       "FirstName      0\n",
       "LastName       0\n",
       "DateOfBirth    0\n",
       "Gender         0\n",
       "Race           0\n",
       "Language       8\n",
       "dtype: int64"
      ]
     },
     "execution_count": 171,
     "metadata": {},
     "output_type": "execute_result"
    }
   ],
   "source": [
    "Patients.isnull().sum()"
   ]
  },
  {
   "cell_type": "markdown",
   "id": "c37c2086",
   "metadata": {},
   "source": [
    "### 7. Analyzing various metrics"
   ]
  },
  {
   "cell_type": "code",
   "execution_count": 11,
   "id": "87b411f0",
   "metadata": {
    "scrolled": true
   },
   "outputs": [
    {
     "data": {
      "text/html": [
       "<div>\n",
       "<style scoped>\n",
       "    .dataframe tbody tr th:only-of-type {\n",
       "        vertical-align: middle;\n",
       "    }\n",
       "\n",
       "    .dataframe tbody tr th {\n",
       "        vertical-align: top;\n",
       "    }\n",
       "\n",
       "    .dataframe thead th {\n",
       "        text-align: right;\n",
       "    }\n",
       "</style>\n",
       "<table border=\"1\" class=\"dataframe\">\n",
       "  <thead>\n",
       "    <tr style=\"text-align: right;\">\n",
       "      <th></th>\n",
       "      <th>PatientID</th>\n",
       "    </tr>\n",
       "  </thead>\n",
       "  <tbody>\n",
       "    <tr>\n",
       "      <th>count</th>\n",
       "      <td>945.000000</td>\n",
       "    </tr>\n",
       "    <tr>\n",
       "      <th>mean</th>\n",
       "      <td>473.000000</td>\n",
       "    </tr>\n",
       "    <tr>\n",
       "      <th>std</th>\n",
       "      <td>272.942302</td>\n",
       "    </tr>\n",
       "    <tr>\n",
       "      <th>min</th>\n",
       "      <td>1.000000</td>\n",
       "    </tr>\n",
       "    <tr>\n",
       "      <th>25%</th>\n",
       "      <td>237.000000</td>\n",
       "    </tr>\n",
       "    <tr>\n",
       "      <th>50%</th>\n",
       "      <td>473.000000</td>\n",
       "    </tr>\n",
       "    <tr>\n",
       "      <th>75%</th>\n",
       "      <td>709.000000</td>\n",
       "    </tr>\n",
       "    <tr>\n",
       "      <th>max</th>\n",
       "      <td>945.000000</td>\n",
       "    </tr>\n",
       "  </tbody>\n",
       "</table>\n",
       "</div>"
      ],
      "text/plain": [
       "        PatientID\n",
       "count  945.000000\n",
       "mean   473.000000\n",
       "std    272.942302\n",
       "min      1.000000\n",
       "25%    237.000000\n",
       "50%    473.000000\n",
       "75%    709.000000\n",
       "max    945.000000"
      ]
     },
     "execution_count": 11,
     "metadata": {},
     "output_type": "execute_result"
    }
   ],
   "source": [
    "patients.describe()\n"
   ]
  },
  {
   "cell_type": "markdown",
   "id": "91c26b49",
   "metadata": {},
   "source": [
    "### 8. Filter data"
   ]
  },
  {
   "cell_type": "code",
   "execution_count": 192,
   "id": "581478f2",
   "metadata": {
    "scrolled": true
   },
   "outputs": [
    {
     "data": {
      "text/html": [
       "<div>\n",
       "<style scoped>\n",
       "    .dataframe tbody tr th:only-of-type {\n",
       "        vertical-align: middle;\n",
       "    }\n",
       "\n",
       "    .dataframe tbody tr th {\n",
       "        vertical-align: top;\n",
       "    }\n",
       "\n",
       "    .dataframe thead th {\n",
       "        text-align: right;\n",
       "    }\n",
       "</style>\n",
       "<table border=\"1\" class=\"dataframe\">\n",
       "  <thead>\n",
       "    <tr style=\"text-align: right;\">\n",
       "      <th></th>\n",
       "      <th>PatientID</th>\n",
       "      <th>FirstName</th>\n",
       "      <th>LastName</th>\n",
       "      <th>DateOfBirth</th>\n",
       "      <th>Gender</th>\n",
       "      <th>Race</th>\n",
       "      <th>Language</th>\n",
       "    </tr>\n",
       "  </thead>\n",
       "  <tbody>\n",
       "    <tr>\n",
       "      <th>0</th>\n",
       "      <td>1.0</td>\n",
       "      <td>Lanni</td>\n",
       "      <td>Sue</td>\n",
       "      <td>1960-01-01 00:00:00.000</td>\n",
       "      <td>Male</td>\n",
       "      <td>White</td>\n",
       "      <td>English</td>\n",
       "    </tr>\n",
       "    <tr>\n",
       "      <th>1</th>\n",
       "      <td>2.0</td>\n",
       "      <td>Far</td>\n",
       "      <td>Myers</td>\n",
       "      <td>1985-11-15 02:08:42.090</td>\n",
       "      <td>Male</td>\n",
       "      <td>White</td>\n",
       "      <td>English</td>\n",
       "    </tr>\n",
       "    <tr>\n",
       "      <th>2</th>\n",
       "      <td>3.0</td>\n",
       "      <td>Devlin</td>\n",
       "      <td>Michael</td>\n",
       "      <td>1976-04-15 02:52:09.762</td>\n",
       "      <td>Male</td>\n",
       "      <td>White</td>\n",
       "      <td>English</td>\n",
       "    </tr>\n",
       "    <tr>\n",
       "      <th>3</th>\n",
       "      <td>4.0</td>\n",
       "      <td>Carmine</td>\n",
       "      <td>Texas</td>\n",
       "      <td>1968-10-15 03:32:13.635</td>\n",
       "      <td>Male</td>\n",
       "      <td>White</td>\n",
       "      <td>English</td>\n",
       "    </tr>\n",
       "    <tr>\n",
       "      <th>4</th>\n",
       "      <td>5.0</td>\n",
       "      <td>Tann</td>\n",
       "      <td>Bama</td>\n",
       "      <td>1962-05-01 19:12:58.950</td>\n",
       "      <td>Male</td>\n",
       "      <td>White</td>\n",
       "      <td>English</td>\n",
       "    </tr>\n",
       "  </tbody>\n",
       "</table>\n",
       "</div>"
      ],
      "text/plain": [
       "   PatientID FirstName LastName             DateOfBirth Gender   Race Language\n",
       "0        1.0     Lanni      Sue 1960-01-01 00:00:00.000   Male  White  English\n",
       "1        2.0       Far    Myers 1985-11-15 02:08:42.090   Male  White  English\n",
       "2        3.0   Devlin   Michael 1976-04-15 02:52:09.762   Male  White  English\n",
       "3        4.0   Carmine    Texas 1968-10-15 03:32:13.635   Male  White  English\n",
       "4        5.0     Tann      Bama 1962-05-01 19:12:58.950   Male  White  English"
      ]
     },
     "execution_count": 192,
     "metadata": {},
     "output_type": "execute_result"
    }
   ],
   "source": [
    "patients[patients['Language']== 'English'].head()"
   ]
  },
  {
   "cell_type": "code",
   "execution_count": 193,
   "id": "d105ed26",
   "metadata": {
    "scrolled": true
   },
   "outputs": [
    {
     "data": {
      "text/html": [
       "<div>\n",
       "<style scoped>\n",
       "    .dataframe tbody tr th:only-of-type {\n",
       "        vertical-align: middle;\n",
       "    }\n",
       "\n",
       "    .dataframe tbody tr th {\n",
       "        vertical-align: top;\n",
       "    }\n",
       "\n",
       "    .dataframe thead th {\n",
       "        text-align: right;\n",
       "    }\n",
       "</style>\n",
       "<table border=\"1\" class=\"dataframe\">\n",
       "  <thead>\n",
       "    <tr style=\"text-align: right;\">\n",
       "      <th></th>\n",
       "      <th>PatientID</th>\n",
       "      <th>FirstName</th>\n",
       "      <th>LastName</th>\n",
       "      <th>DateOfBirth</th>\n",
       "      <th>Gender</th>\n",
       "      <th>Race</th>\n",
       "      <th>Language</th>\n",
       "    </tr>\n",
       "  </thead>\n",
       "  <tbody>\n",
       "    <tr>\n",
       "      <th>10</th>\n",
       "      <td>11.0</td>\n",
       "      <td>Dean</td>\n",
       "      <td>Kimberly</td>\n",
       "      <td>1972-02-22 19:23:49.981</td>\n",
       "      <td>Male</td>\n",
       "      <td>White</td>\n",
       "      <td>Spanish</td>\n",
       "    </tr>\n",
       "    <tr>\n",
       "      <th>11</th>\n",
       "      <td>12.0</td>\n",
       "      <td>Zonnya</td>\n",
       "      <td>Ab</td>\n",
       "      <td>1963-05-23 10:04:33.074</td>\n",
       "      <td>Male</td>\n",
       "      <td>White</td>\n",
       "      <td>Spanish</td>\n",
       "    </tr>\n",
       "    <tr>\n",
       "      <th>12</th>\n",
       "      <td>13.0</td>\n",
       "      <td>Skippie</td>\n",
       "      <td>Marriot</td>\n",
       "      <td>1978-05-12 20:12:54.106</td>\n",
       "      <td>Male</td>\n",
       "      <td>White</td>\n",
       "      <td>Spanish</td>\n",
       "    </tr>\n",
       "    <tr>\n",
       "      <th>13</th>\n",
       "      <td>14.0</td>\n",
       "      <td>Gan</td>\n",
       "      <td>Yu</td>\n",
       "      <td>1970-06-02 06:22:54.675</td>\n",
       "      <td>Male</td>\n",
       "      <td>White</td>\n",
       "      <td>Spanish</td>\n",
       "    </tr>\n",
       "    <tr>\n",
       "      <th>14</th>\n",
       "      <td>15.0</td>\n",
       "      <td>Gabriel</td>\n",
       "      <td>Saint</td>\n",
       "      <td>1961-11-18 06:47:20.682</td>\n",
       "      <td>Male</td>\n",
       "      <td>White</td>\n",
       "      <td>Spanish</td>\n",
       "    </tr>\n",
       "  </tbody>\n",
       "</table>\n",
       "</div>"
      ],
      "text/plain": [
       "    PatientID FirstName  LastName             DateOfBirth Gender   Race  \\\n",
       "10       11.0      Dean  Kimberly 1972-02-22 19:23:49.981   Male  White   \n",
       "11       12.0    Zonnya        Ab 1963-05-23 10:04:33.074   Male  White   \n",
       "12       13.0   Skippie   Marriot 1978-05-12 20:12:54.106   Male  White   \n",
       "13       14.0       Gan        Yu 1970-06-02 06:22:54.675   Male  White   \n",
       "14       15.0   Gabriel     Saint 1961-11-18 06:47:20.682   Male  White   \n",
       "\n",
       "   Language  \n",
       "10  Spanish  \n",
       "11  Spanish  \n",
       "12  Spanish  \n",
       "13  Spanish  \n",
       "14  Spanish  "
      ]
     },
     "execution_count": 193,
     "metadata": {},
     "output_type": "execute_result"
    }
   ],
   "source": [
    "#Filter data\n",
    "\n",
    "patients[patients['Language']== 'Spanish'].head()"
   ]
  },
  {
   "cell_type": "markdown",
   "id": "83ea3299",
   "metadata": {},
   "source": [
    "### 9. Plot the unique values of Race"
   ]
  },
  {
   "cell_type": "code",
   "execution_count": 195,
   "id": "78e035d4",
   "metadata": {
    "scrolled": true
   },
   "outputs": [
    {
     "name": "stderr",
     "output_type": "stream",
     "text": [
      "C:\\Users\\Vaishali\\Anaconda-Setup\\lib\\site-packages\\seaborn\\_decorators.py:36: FutureWarning: Pass the following variable as a keyword arg: x. From version 0.12, the only valid positional argument will be `data`, and passing other arguments without an explicit keyword will result in an error or misinterpretation.\n",
      "  warnings.warn(\n"
     ]
    },
    {
     "data": {
      "text/plain": [
       "<AxesSubplot:xlabel='Race', ylabel='count'>"
      ]
     },
     "execution_count": 195,
     "metadata": {},
     "output_type": "execute_result"
    },
    {
     "data": {
      "image/png": "[encoded data removed]",
      "text/plain": [
       "<Figure size 432x288 with 1 Axes>"
      ]
     },
     "metadata": {},
     "output_type": "display_data"
    }
   ],
   "source": [
    "sns.countplot(patients['Race'])"
   ]
  },
  {
   "cell_type": "markdown",
   "id": "f4fcddf6",
   "metadata": {},
   "source": [
    "### 10. To visualize number of patients are of which age group."
   ]
  },
  {
   "cell_type": "code",
   "execution_count": 17,
   "id": "f408dc76",
   "metadata": {
    "scrolled": true
   },
   "outputs": [
    {
     "name": "stderr",
     "output_type": "stream",
     "text": [
      "C:\\Users\\Vaishali\\Anaconda-Setup\\lib\\site-packages\\pandas\\core\\arrays\\datetimes.py:2199: FutureWarning: The parsing of 'now' in pd.to_datetime without `utc=True` is deprecated. In a future version, this will match Timestamp('now') and Timestamp.now()\n",
      "  result, tz_parsed = tslib.array_to_datetime(\n"
     ]
    },
    {
     "data": {
      "text/plain": [
       "<AxesSubplot:xlabel='Age', ylabel='PatientID'>"
      ]
     },
     "execution_count": 17,
     "metadata": {},
     "output_type": "execute_result"
    },
    {
     "data": {
      "image/png": "[encoded data removed]",
      "text/plain": [
       "<Figure size 432x288 with 1 Axes>"
      ]
     },
     "metadata": {},
     "output_type": "display_data"
    }
   ],
   "source": [
    "#dataframe used in this :\n",
    "patients=df['Patients']\n",
    "type(patients)\n",
    "\n",
    "#create a parameter called now to calculate age.\n",
    "\n",
    "now = pd.to_datetime('now')\n",
    "patients['Age']=(now - patients['DateOfBirth']).astype('<m8[Y]') \n",
    "patients.head()\n",
    "\n",
    "patients_count_age=patients.groupby(['Age'])['PatientID'].count().reset_index()\n",
    "patients_count_age\n",
    "#sb.relplot(data=patients, x='Age', y='PatientID', kind='line')\n",
    "#plt.show()\n",
    "\n",
    "sb.scatterplot(x='Age', y='PatientID', data=patients_count_age, hue='Age')\n",
    "\n",
    "\n",
    "\n",
    "## here we see some outliers in the patient's age. patients of age 36 - 37 are way more in number & Age 34-35 have the lowest count\n"
   ]
  },
  {
   "cell_type": "markdown",
   "id": "f154167d",
   "metadata": {},
   "source": [
    "### 11. To visualize language of the patients."
   ]
  },
  {
   "cell_type": "code",
   "execution_count": 246,
   "id": "1a8582b5",
   "metadata": {},
   "outputs": [
    {
     "data": {
      "image/png": "[encoded data removed]",
      "text/plain": [
       "<Figure size 432x288 with 1 Axes>"
      ]
     },
     "metadata": {},
     "output_type": "display_data"
    }
   ],
   "source": [
    "patients_count_race_lang=patients.groupby(['Language'])['PatientID'].count().reset_index()\n",
    "patients_count_race_lang.head()\n",
    "plt.pie(patients_count_race_lang[\"PatientID\"], labels= patients_count_race_lang[\"PatientID\"], radius=1.5,startangle=90)\n",
    "plt.legend(patients_count_race_lang[\"Language\"], loc=\"best\")\n",
    "plt.show()\n",
    "\n",
    "\n",
    "## Majority patients are who speaks english.\n",
    "\n",
    "\n",
    "# Analysis of Patients sheets\n",
    "\n",
    "# 1.Numbers of rows & columns in the data sheet patients.(945, 7)\n",
    "\n",
    "# 2.except Language column, there are  no - null values in other columns.\n",
    "\n",
    "# 3.Do not find any duplicates.\n",
    "\n",
    "# 4. From matrix analysis -\n",
    "       # count\t945.000000\n",
    "        # mean\t473.000000\n",
    "        #std\t272.942302\n",
    "        #min\t1.000000\n",
    "        # 25%\t237.000000\n",
    "        # 50%\t473.000000\n",
    "        # 75%\t709.000000\n",
    "        # max\t945.000000\n",
    "\n",
    "# 5.Male patients are more then female patients, in language English are more then spanish but in race all moust equal number of patients in white and Black/African-american.       \n",
    "        \n",
    "\n",
    "\n",
    "\n"
   ]
  },
  {
   "cell_type": "markdown",
   "id": "68262f38",
   "metadata": {},
   "source": [
    "# Analysis on ED Visits sheet."
   ]
  },
  {
   "cell_type": "markdown",
   "id": "0184cb65",
   "metadata": {},
   "source": [
    "### 12. Dataframes used in this :"
   ]
  },
  {
   "cell_type": "code",
   "execution_count": 197,
   "id": "3a8fc702",
   "metadata": {
    "scrolled": true
   },
   "outputs": [
    {
     "name": "stdout",
     "output_type": "stream",
     "text": [
      "<class 'pandas.core.frame.DataFrame'>\n",
      "RangeIndex: 1199 entries, 0 to 1198\n",
      "Data columns (total 7 columns):\n",
      " #   Column           Non-Null Count  Dtype         \n",
      "---  ------           --------------  -----         \n",
      " 0   EDVisitID        1199 non-null   float64       \n",
      " 1   PatientID        1199 non-null   float64       \n",
      " 2   VisitDate        1199 non-null   datetime64[ns]\n",
      " 3   EDDischargeTime  1199 non-null   datetime64[ns]\n",
      " 4   Acuity           1199 non-null   float64       \n",
      " 5   ReasonForVisit   1199 non-null   object        \n",
      " 6   EDDisposition    1199 non-null   object        \n",
      "dtypes: datetime64[ns](2), float64(3), object(2)\n",
      "memory usage: 65.7+ KB\n"
     ]
    },
    {
     "data": {
      "text/plain": [
       "(1199, 7)"
      ]
     },
     "execution_count": 197,
     "metadata": {},
     "output_type": "execute_result"
    }
   ],
   "source": [
    "EDVisits=df['EDVisits']\n",
    "EDVisits.head()\n",
    "EDVisits.info()\n",
    "\n",
    "EDVisits.shape\n",
    "\n"
   ]
  },
  {
   "cell_type": "markdown",
   "id": "b0478c0a",
   "metadata": {},
   "source": [
    "### 13. Checking % of Missing values."
   ]
  },
  {
   "cell_type": "code",
   "execution_count": 20,
   "id": "ae081ff4",
   "metadata": {
    "scrolled": true
   },
   "outputs": [
    {
     "data": {
      "text/plain": [
       "EDVisitID          0.0\n",
       "PatientID          0.0\n",
       "VisitDate          0.0\n",
       "EDDischargeTime    0.0\n",
       "Acuity             0.0\n",
       "ReasonForVisit     0.0\n",
       "EDDisposition      0.0\n",
       "dtype: float64"
      ]
     },
     "execution_count": 20,
     "metadata": {},
     "output_type": "execute_result"
    }
   ],
   "source": [
    "EDVisits.isnull().sum() / patients.shape[0] * 100\n",
    "\n",
    "#  don't have any null values."
   ]
  },
  {
   "cell_type": "markdown",
   "id": "eb8ece50",
   "metadata": {},
   "source": [
    "### 14. Checking if there are any duplicate values in the EDVisitID column"
   ]
  },
  {
   "cell_type": "code",
   "execution_count": 199,
   "id": "cb875e82",
   "metadata": {
    "scrolled": true
   },
   "outputs": [
    {
     "data": {
      "text/plain": [
       "1.0       1\n",
       "510.0     1\n",
       "508.0     1\n",
       "507.0     1\n",
       "498.0     1\n",
       "         ..\n",
       "938.0     1\n",
       "937.0     1\n",
       "926.0     1\n",
       "925.0     1\n",
       "1189.0    1\n",
       "Name: EDVisitID, Length: 1199, dtype: int64"
      ]
     },
     "execution_count": 199,
     "metadata": {},
     "output_type": "execute_result"
    }
   ],
   "source": [
    "EDVisits.EDVisitID.value_counts()\n",
    "\n",
    "# There are no duplicates in Patient_Id column\n",
    "\n"
   ]
  },
  {
   "cell_type": "markdown",
   "id": "46b54c85",
   "metadata": {},
   "source": [
    "### 15. Find the duplicates"
   ]
  },
  {
   "cell_type": "code",
   "execution_count": 200,
   "id": "eb5f35a0",
   "metadata": {},
   "outputs": [
    {
     "data": {
      "text/plain": [
       "0"
      ]
     },
     "execution_count": 200,
     "metadata": {},
     "output_type": "execute_result"
    }
   ],
   "source": [
    "EDVisits.duplicated().sum()"
   ]
  },
  {
   "cell_type": "markdown",
   "id": "9b1e60ff",
   "metadata": {},
   "source": [
    "### 16.  Calculating the EDthroughput hours. time spent by patients in ED"
   ]
  },
  {
   "cell_type": "code",
   "execution_count": 26,
   "id": "1934b899",
   "metadata": {},
   "outputs": [
    {
     "data": {
      "text/plain": [
       "Timedelta('0 days 11:40:14.642000')"
      ]
     },
     "execution_count": 26,
     "metadata": {},
     "output_type": "execute_result"
    }
   ],
   "source": [
    "EDVisits.head()\n",
    "\n",
    "\n",
    "EDVisits['EDThroughput']=EDVisits['EDDischargeTime']-EDVisits['VisitDate']\n",
    "EDVisits['EDThroughput']=EDVisits['EDThroughput']\n",
    "\n",
    "\n",
    "EDVisits['EDThroughput'].median()\n",
    "\n",
    "#11.40 Hrs is the centre value spent in ED by a patient."
   ]
  },
  {
   "cell_type": "markdown",
   "id": "70b32661",
   "metadata": {},
   "source": [
    "### 17. calculating the patients based on reason of visit."
   ]
  },
  {
   "cell_type": "code",
   "execution_count": 208,
   "id": "7b3d1939",
   "metadata": {
    "scrolled": true
   },
   "outputs": [
    {
     "data": {
      "text/html": [
       "<div>\n",
       "<style scoped>\n",
       "    .dataframe tbody tr th:only-of-type {\n",
       "        vertical-align: middle;\n",
       "    }\n",
       "\n",
       "    .dataframe tbody tr th {\n",
       "        vertical-align: top;\n",
       "    }\n",
       "\n",
       "    .dataframe thead th {\n",
       "        text-align: right;\n",
       "    }\n",
       "</style>\n",
       "<table border=\"1\" class=\"dataframe\">\n",
       "  <thead>\n",
       "    <tr style=\"text-align: right;\">\n",
       "      <th></th>\n",
       "      <th>ReasonForVisit</th>\n",
       "      <th>EDDisposition</th>\n",
       "      <th>PatientID</th>\n",
       "    </tr>\n",
       "  </thead>\n",
       "  <tbody>\n",
       "    <tr>\n",
       "      <th>0</th>\n",
       "      <td>Accident</td>\n",
       "      <td>Admitted</td>\n",
       "      <td>39</td>\n",
       "    </tr>\n",
       "    <tr>\n",
       "      <th>1</th>\n",
       "      <td>Bleeding</td>\n",
       "      <td>Admitted</td>\n",
       "      <td>16</td>\n",
       "    </tr>\n",
       "    <tr>\n",
       "      <th>2</th>\n",
       "      <td>Bleeding</td>\n",
       "      <td>Discharged</td>\n",
       "      <td>15</td>\n",
       "    </tr>\n",
       "    <tr>\n",
       "      <th>3</th>\n",
       "      <td>Car Accident</td>\n",
       "      <td>Admitted</td>\n",
       "      <td>17</td>\n",
       "    </tr>\n",
       "    <tr>\n",
       "      <th>4</th>\n",
       "      <td>Chest Pain</td>\n",
       "      <td>Admitted</td>\n",
       "      <td>94</td>\n",
       "    </tr>\n",
       "    <tr>\n",
       "      <th>5</th>\n",
       "      <td>Chest Pain</td>\n",
       "      <td>Discharged</td>\n",
       "      <td>15</td>\n",
       "    </tr>\n",
       "    <tr>\n",
       "      <th>6</th>\n",
       "      <td>Cough</td>\n",
       "      <td>Discharged</td>\n",
       "      <td>1</td>\n",
       "    </tr>\n",
       "    <tr>\n",
       "      <th>7</th>\n",
       "      <td>Fever</td>\n",
       "      <td>Admitted</td>\n",
       "      <td>46</td>\n",
       "    </tr>\n",
       "    <tr>\n",
       "      <th>8</th>\n",
       "      <td>Fever</td>\n",
       "      <td>Discharged</td>\n",
       "      <td>188</td>\n",
       "    </tr>\n",
       "    <tr>\n",
       "      <th>9</th>\n",
       "      <td>Gun Shot</td>\n",
       "      <td>Admitted</td>\n",
       "      <td>16</td>\n",
       "    </tr>\n",
       "    <tr>\n",
       "      <th>10</th>\n",
       "      <td>Intoxication</td>\n",
       "      <td>Discharged</td>\n",
       "      <td>30</td>\n",
       "    </tr>\n",
       "    <tr>\n",
       "      <th>11</th>\n",
       "      <td>Laceration</td>\n",
       "      <td>Discharged</td>\n",
       "      <td>30</td>\n",
       "    </tr>\n",
       "    <tr>\n",
       "      <th>12</th>\n",
       "      <td>Migraine</td>\n",
       "      <td>Admitted</td>\n",
       "      <td>47</td>\n",
       "    </tr>\n",
       "    <tr>\n",
       "      <th>13</th>\n",
       "      <td>Migraine</td>\n",
       "      <td>Discharged</td>\n",
       "      <td>109</td>\n",
       "    </tr>\n",
       "    <tr>\n",
       "      <th>14</th>\n",
       "      <td>Pneumonia</td>\n",
       "      <td>Admitted</td>\n",
       "      <td>136</td>\n",
       "    </tr>\n",
       "    <tr>\n",
       "      <th>15</th>\n",
       "      <td>Pneumonia</td>\n",
       "      <td>Discharged</td>\n",
       "      <td>65</td>\n",
       "    </tr>\n",
       "    <tr>\n",
       "      <th>16</th>\n",
       "      <td>Shortness of Breath</td>\n",
       "      <td>Admitted</td>\n",
       "      <td>72</td>\n",
       "    </tr>\n",
       "    <tr>\n",
       "      <th>17</th>\n",
       "      <td>Shortness of Breath</td>\n",
       "      <td>Discharged</td>\n",
       "      <td>77</td>\n",
       "    </tr>\n",
       "    <tr>\n",
       "      <th>18</th>\n",
       "      <td>Stomach Ache</td>\n",
       "      <td>Admitted</td>\n",
       "      <td>32</td>\n",
       "    </tr>\n",
       "    <tr>\n",
       "      <th>19</th>\n",
       "      <td>Stomach Ache</td>\n",
       "      <td>Discharged</td>\n",
       "      <td>154</td>\n",
       "    </tr>\n",
       "  </tbody>\n",
       "</table>\n",
       "</div>"
      ],
      "text/plain": [
       "         ReasonForVisit EDDisposition  PatientID\n",
       "0              Accident      Admitted         39\n",
       "1              Bleeding      Admitted         16\n",
       "2              Bleeding    Discharged         15\n",
       "3          Car Accident      Admitted         17\n",
       "4            Chest Pain      Admitted         94\n",
       "5            Chest Pain    Discharged         15\n",
       "6                 Cough    Discharged          1\n",
       "7                 Fever      Admitted         46\n",
       "8                 Fever    Discharged        188\n",
       "9              Gun Shot      Admitted         16\n",
       "10         Intoxication    Discharged         30\n",
       "11           Laceration    Discharged         30\n",
       "12             Migraine      Admitted         47\n",
       "13             Migraine    Discharged        109\n",
       "14            Pneumonia      Admitted        136\n",
       "15            Pneumonia    Discharged         65\n",
       "16  Shortness of Breath      Admitted         72\n",
       "17  Shortness of Breath    Discharged         77\n",
       "18         Stomach Ache      Admitted         32\n",
       "19         Stomach Ache    Discharged        154"
      ]
     },
     "execution_count": 208,
     "metadata": {},
     "output_type": "execute_result"
    }
   ],
   "source": [
    "ROV = EDVisits.groupby(['ReasonForVisit','EDDisposition'])['PatientID'].count().reset_index()\n",
    "\n",
    "ROV"
   ]
  },
  {
   "cell_type": "markdown",
   "id": "b12c8811",
   "metadata": {},
   "source": [
    "### 18. count of ED visits based on Reason of visit."
   ]
  },
  {
   "cell_type": "code",
   "execution_count": 206,
   "id": "50a80e10",
   "metadata": {
    "scrolled": true
   },
   "outputs": [
    {
     "data": {
      "text/html": [
       "<div>\n",
       "<style scoped>\n",
       "    .dataframe tbody tr th:only-of-type {\n",
       "        vertical-align: middle;\n",
       "    }\n",
       "\n",
       "    .dataframe tbody tr th {\n",
       "        vertical-align: top;\n",
       "    }\n",
       "\n",
       "    .dataframe thead th {\n",
       "        text-align: right;\n",
       "    }\n",
       "</style>\n",
       "<table border=\"1\" class=\"dataframe\">\n",
       "  <thead>\n",
       "    <tr style=\"text-align: right;\">\n",
       "      <th></th>\n",
       "      <th>ReasonForVisit</th>\n",
       "      <th>EDVisitID</th>\n",
       "    </tr>\n",
       "  </thead>\n",
       "  <tbody>\n",
       "    <tr>\n",
       "      <th>0</th>\n",
       "      <td>Accident</td>\n",
       "      <td>39</td>\n",
       "    </tr>\n",
       "    <tr>\n",
       "      <th>1</th>\n",
       "      <td>Bleeding</td>\n",
       "      <td>31</td>\n",
       "    </tr>\n",
       "    <tr>\n",
       "      <th>2</th>\n",
       "      <td>Car Accident</td>\n",
       "      <td>17</td>\n",
       "    </tr>\n",
       "    <tr>\n",
       "      <th>3</th>\n",
       "      <td>Chest Pain</td>\n",
       "      <td>109</td>\n",
       "    </tr>\n",
       "    <tr>\n",
       "      <th>4</th>\n",
       "      <td>Cough</td>\n",
       "      <td>1</td>\n",
       "    </tr>\n",
       "    <tr>\n",
       "      <th>5</th>\n",
       "      <td>Fever</td>\n",
       "      <td>234</td>\n",
       "    </tr>\n",
       "    <tr>\n",
       "      <th>6</th>\n",
       "      <td>Gun Shot</td>\n",
       "      <td>16</td>\n",
       "    </tr>\n",
       "    <tr>\n",
       "      <th>7</th>\n",
       "      <td>Intoxication</td>\n",
       "      <td>30</td>\n",
       "    </tr>\n",
       "    <tr>\n",
       "      <th>8</th>\n",
       "      <td>Laceration</td>\n",
       "      <td>30</td>\n",
       "    </tr>\n",
       "    <tr>\n",
       "      <th>9</th>\n",
       "      <td>Migraine</td>\n",
       "      <td>156</td>\n",
       "    </tr>\n",
       "    <tr>\n",
       "      <th>10</th>\n",
       "      <td>Pneumonia</td>\n",
       "      <td>201</td>\n",
       "    </tr>\n",
       "    <tr>\n",
       "      <th>11</th>\n",
       "      <td>Shortness of Breath</td>\n",
       "      <td>149</td>\n",
       "    </tr>\n",
       "    <tr>\n",
       "      <th>12</th>\n",
       "      <td>Stomach Ache</td>\n",
       "      <td>186</td>\n",
       "    </tr>\n",
       "  </tbody>\n",
       "</table>\n",
       "</div>"
      ],
      "text/plain": [
       "         ReasonForVisit  EDVisitID\n",
       "0              Accident         39\n",
       "1              Bleeding         31\n",
       "2          Car Accident         17\n",
       "3            Chest Pain        109\n",
       "4                 Cough          1\n",
       "5                 Fever        234\n",
       "6              Gun Shot         16\n",
       "7          Intoxication         30\n",
       "8            Laceration         30\n",
       "9              Migraine        156\n",
       "10            Pneumonia        201\n",
       "11  Shortness of Breath        149\n",
       "12         Stomach Ache        186"
      ]
     },
     "execution_count": 206,
     "metadata": {},
     "output_type": "execute_result"
    }
   ],
   "source": [
    "cnt_EDV=EDVisits.groupby(['ReasonForVisit'])['EDVisitID'].count().reset_index()\n",
    "cnt_EDV"
   ]
  },
  {
   "cell_type": "markdown",
   "id": "2f464378",
   "metadata": {},
   "source": [
    "### 19. To calculate Observed mortality : Expected mortality"
   ]
  },
  {
   "cell_type": "code",
   "execution_count": 31,
   "id": "a3bfea8e",
   "metadata": {},
   "outputs": [
    {
     "name": "stdout",
     "output_type": "stream",
     "text": [
      "Observed_mortality : Expected mortality is : 0.4272709474250124\n"
     ]
    }
   ],
   "source": [
    "#Dataframes used in this:\n",
    "\n",
    "ReAdmissionRegistry\n",
    "\n",
    "OE_data =ReAdmissionRegistry[(ReAdmissionRegistry['DischargeDisposition']=='Expired')]\n",
    "OE_data \n",
    "\n",
    "OvsE=OE_data['DischargeDisposition'].count() / ReAdmissionRegistry['ExpectedMortality'].sum()\n",
    "\n",
    "OvsE\n",
    "print('Observed_mortality : Expected mortality is :' , OvsE)"
   ]
  },
  {
   "cell_type": "markdown",
   "id": "118fb9e9",
   "metadata": {},
   "source": [
    "### 20. observed Mortality by Primary diagnosis."
   ]
  },
  {
   "cell_type": "code",
   "execution_count": 32,
   "id": "05021d23",
   "metadata": {},
   "outputs": [
    {
     "data": {
      "text/html": [
       "<div>\n",
       "<style scoped>\n",
       "    .dataframe tbody tr th:only-of-type {\n",
       "        vertical-align: middle;\n",
       "    }\n",
       "\n",
       "    .dataframe tbody tr th {\n",
       "        vertical-align: top;\n",
       "    }\n",
       "\n",
       "    .dataframe thead th {\n",
       "        text-align: right;\n",
       "    }\n",
       "</style>\n",
       "<table border=\"1\" class=\"dataframe\">\n",
       "  <thead>\n",
       "    <tr style=\"text-align: right;\">\n",
       "      <th></th>\n",
       "      <th>PrimaryDiagnosis</th>\n",
       "      <th>DischargeDisposition</th>\n",
       "    </tr>\n",
       "  </thead>\n",
       "  <tbody>\n",
       "    <tr>\n",
       "      <th>0</th>\n",
       "      <td>AMI</td>\n",
       "      <td>6</td>\n",
       "    </tr>\n",
       "    <tr>\n",
       "      <th>1</th>\n",
       "      <td>Afib</td>\n",
       "      <td>4</td>\n",
       "    </tr>\n",
       "    <tr>\n",
       "      <th>2</th>\n",
       "      <td>Broken Leg</td>\n",
       "      <td>3</td>\n",
       "    </tr>\n",
       "    <tr>\n",
       "      <th>3</th>\n",
       "      <td>Diabetes</td>\n",
       "      <td>9</td>\n",
       "    </tr>\n",
       "    <tr>\n",
       "      <th>4</th>\n",
       "      <td>Fever</td>\n",
       "      <td>4</td>\n",
       "    </tr>\n",
       "  </tbody>\n",
       "</table>\n",
       "</div>"
      ],
      "text/plain": [
       "  PrimaryDiagnosis  DischargeDisposition\n",
       "0              AMI                     6\n",
       "1             Afib                     4\n",
       "2       Broken Leg                     3\n",
       "3         Diabetes                     9\n",
       "4            Fever                     4"
      ]
     },
     "execution_count": 32,
     "metadata": {},
     "output_type": "execute_result"
    }
   ],
   "source": [
    "#Using the below data frame\n",
    "OE_data  #as it contains only the data with DischargeDisposition 'Expired'\n",
    "\n",
    "OM_PD=OE_data.groupby(['PrimaryDiagnosis'])['DischargeDisposition'].count().reset_index()\n",
    "OM_PD.head()"
   ]
  },
  {
   "cell_type": "markdown",
   "id": "45f4d4b6",
   "metadata": {},
   "source": [
    "### 21. Boxplot"
   ]
  },
  {
   "cell_type": "code",
   "execution_count": 209,
   "id": "2fd9fe75",
   "metadata": {
    "scrolled": true
   },
   "outputs": [
    {
     "data": {
      "text/plain": [
       "<AxesSubplot:>"
      ]
     },
     "execution_count": 209,
     "metadata": {},
     "output_type": "execute_result"
    },
    {
     "data": {
      "image/png": "[encoded data removed]",
      "text/plain": [
       "<Figure size 432x288 with 1 Axes>"
      ]
     },
     "metadata": {},
     "output_type": "display_data"
    }
   ],
   "source": [
    "\n",
    "EDVisits[['Acuity']].boxplot()"
   ]
  },
  {
   "cell_type": "markdown",
   "id": "55ee9760",
   "metadata": {},
   "source": [
    "### 22. Correlation & plot"
   ]
  },
  {
   "cell_type": "code",
   "execution_count": 210,
   "id": "33a99f12",
   "metadata": {},
   "outputs": [
    {
     "data": {
      "text/html": [
       "<div>\n",
       "<style scoped>\n",
       "    .dataframe tbody tr th:only-of-type {\n",
       "        vertical-align: middle;\n",
       "    }\n",
       "\n",
       "    .dataframe tbody tr th {\n",
       "        vertical-align: top;\n",
       "    }\n",
       "\n",
       "    .dataframe thead th {\n",
       "        text-align: right;\n",
       "    }\n",
       "</style>\n",
       "<table border=\"1\" class=\"dataframe\">\n",
       "  <thead>\n",
       "    <tr style=\"text-align: right;\">\n",
       "      <th></th>\n",
       "      <th>EDVisitID</th>\n",
       "      <th>PatientID</th>\n",
       "      <th>Acuity</th>\n",
       "    </tr>\n",
       "  </thead>\n",
       "  <tbody>\n",
       "    <tr>\n",
       "      <th>EDVisitID</th>\n",
       "      <td>1.000000</td>\n",
       "      <td>0.975477</td>\n",
       "      <td>0.005813</td>\n",
       "    </tr>\n",
       "    <tr>\n",
       "      <th>PatientID</th>\n",
       "      <td>0.975477</td>\n",
       "      <td>1.000000</td>\n",
       "      <td>0.003545</td>\n",
       "    </tr>\n",
       "    <tr>\n",
       "      <th>Acuity</th>\n",
       "      <td>0.005813</td>\n",
       "      <td>0.003545</td>\n",
       "      <td>1.000000</td>\n",
       "    </tr>\n",
       "  </tbody>\n",
       "</table>\n",
       "</div>"
      ],
      "text/plain": [
       "           EDVisitID  PatientID    Acuity\n",
       "EDVisitID   1.000000   0.975477  0.005813\n",
       "PatientID   0.975477   1.000000  0.003545\n",
       "Acuity      0.005813   0.003545  1.000000"
      ]
     },
     "execution_count": 210,
     "metadata": {},
     "output_type": "execute_result"
    }
   ],
   "source": [
    "EDVisits.corr()"
   ]
  },
  {
   "cell_type": "code",
   "execution_count": 211,
   "id": "de3ecf7b",
   "metadata": {},
   "outputs": [
    {
     "data": {
      "text/plain": [
       "<AxesSubplot:>"
      ]
     },
     "execution_count": 211,
     "metadata": {},
     "output_type": "execute_result"
    },
    {
     "data": {
      "image/png": "[encoded data removed]",
      "text/plain": [
       "<Figure size 432x288 with 2 Axes>"
      ]
     },
     "metadata": {},
     "output_type": "display_data"
    }
   ],
   "source": [
    "#Correlation plot\n",
    "\n",
    "sns.heatmap(EDVisits.corr())\n",
    "\n",
    "# This is the correlation matrix with the range from +1 to -1 where +1 is highly and positively correlated and -1 will be highly negatively correlated."
   ]
  },
  {
   "cell_type": "markdown",
   "id": "62a32920",
   "metadata": {},
   "source": [
    "### Analysis of EDVisits sheets\n",
    "\n",
    "1.Numbers of rows & columns in the data sheet EDVisits.(1199, 7)\n",
    "\n",
    "2.There are  no  null values in other columns.\n",
    "\n",
    "3.Do not find any duplicates.\n",
    "\n",
    "4. 11.40 Hrs is the centre value spent in ED by a patients.\n",
    "\n",
    "5.Observed_mortality : Expected mortality ratio is 0.42.\n",
    "\n",
    "6. co-relation with EDVisitID, PatientsID and Acuity shows in a heat map."
   ]
  },
  {
   "cell_type": "markdown",
   "id": "734cd3c6",
   "metadata": {},
   "source": [
    "# Analyzing Ambulatory visits sheet"
   ]
  },
  {
   "cell_type": "markdown",
   "id": "5be273b8",
   "metadata": {},
   "source": [
    "### 23. dataframes used in this:"
   ]
  },
  {
   "cell_type": "code",
   "execution_count": 212,
   "id": "f29b941e",
   "metadata": {},
   "outputs": [
    {
     "name": "stdout",
     "output_type": "stream",
     "text": [
      "<class 'pandas.core.frame.DataFrame'>\n",
      "RangeIndex: 950 entries, 0 to 949\n",
      "Data columns (total 11 columns):\n",
      " #   Column                  Non-Null Count  Dtype         \n",
      "---  ------                  --------------  -----         \n",
      " 0   VisitID                 950 non-null    float64       \n",
      " 1   PatientMRN              950 non-null    float64       \n",
      " 2   ProviderID              950 non-null    float64       \n",
      " 3   DateofVisit             950 non-null    datetime64[ns]\n",
      " 4   DateScheduled           950 non-null    datetime64[ns]\n",
      " 5   VisitDepartmentID       950 non-null    float64       \n",
      " 6   VisitType               950 non-null    object        \n",
      " 7   BloodPressureSystolic   826 non-null    float64       \n",
      " 8   BloodPressureDiastolic  826 non-null    float64       \n",
      " 9   Pulse                   826 non-null    float64       \n",
      " 10  VisitStatus             950 non-null    object        \n",
      "dtypes: datetime64[ns](2), float64(7), object(2)\n",
      "memory usage: 81.8+ KB\n"
     ]
    },
    {
     "data": {
      "text/plain": [
       "(950, 11)"
      ]
     },
     "execution_count": 212,
     "metadata": {},
     "output_type": "execute_result"
    }
   ],
   "source": [
    "AmbulatoryVisits= df['AmbulatoryVisits']\n",
    "\n",
    "AmbulatoryVisits.info()\n",
    "\n",
    "AmbulatoryVisits.shape"
   ]
  },
  {
   "cell_type": "code",
   "execution_count": 34,
   "id": "c70bf6f5",
   "metadata": {},
   "outputs": [
    {
     "data": {
      "text/plain": [
       "VisitID                    0.000000\n",
       "PatientMRN                 0.000000\n",
       "ProviderID                 0.000000\n",
       "DateofVisit                0.000000\n",
       "DateScheduled              0.000000\n",
       "VisitDepartmentID          0.000000\n",
       "VisitType                  0.000000\n",
       "BloodPressureSystolic     13.121693\n",
       "BloodPressureDiastolic    13.121693\n",
       "Pulse                     13.121693\n",
       "VisitStatus                0.000000\n",
       "dtype: float64"
      ]
     },
     "execution_count": 34,
     "metadata": {},
     "output_type": "execute_result"
    }
   ],
   "source": [
    "AmbulatoryVisits.isnull().sum() / patients.shape[0] * 100"
   ]
  },
  {
   "cell_type": "code",
   "execution_count": 213,
   "id": "6df4b114",
   "metadata": {
    "scrolled": true
   },
   "outputs": [
    {
     "data": {
      "text/html": [
       "<div>\n",
       "<style scoped>\n",
       "    .dataframe tbody tr th:only-of-type {\n",
       "        vertical-align: middle;\n",
       "    }\n",
       "\n",
       "    .dataframe tbody tr th {\n",
       "        vertical-align: top;\n",
       "    }\n",
       "\n",
       "    .dataframe thead th {\n",
       "        text-align: right;\n",
       "    }\n",
       "</style>\n",
       "<table border=\"1\" class=\"dataframe\">\n",
       "  <thead>\n",
       "    <tr style=\"text-align: right;\">\n",
       "      <th></th>\n",
       "      <th>VisitID</th>\n",
       "      <th>PatientMRN</th>\n",
       "      <th>ProviderID</th>\n",
       "      <th>VisitDepartmentID</th>\n",
       "      <th>BloodPressureSystolic</th>\n",
       "      <th>BloodPressureDiastolic</th>\n",
       "      <th>Pulse</th>\n",
       "    </tr>\n",
       "  </thead>\n",
       "  <tbody>\n",
       "    <tr>\n",
       "      <th>count</th>\n",
       "      <td>950.000000</td>\n",
       "      <td>950.000000</td>\n",
       "      <td>950.000000</td>\n",
       "      <td>950.000000</td>\n",
       "      <td>826.000000</td>\n",
       "      <td>826.000000</td>\n",
       "      <td>826.000000</td>\n",
       "    </tr>\n",
       "    <tr>\n",
       "      <th>mean</th>\n",
       "      <td>475.500000</td>\n",
       "      <td>592.648421</td>\n",
       "      <td>18.638947</td>\n",
       "      <td>7.252632</td>\n",
       "      <td>155.815981</td>\n",
       "      <td>106.841232</td>\n",
       "      <td>74.464751</td>\n",
       "    </tr>\n",
       "    <tr>\n",
       "      <th>std</th>\n",
       "      <td>274.385677</td>\n",
       "      <td>345.126034</td>\n",
       "      <td>11.392470</td>\n",
       "      <td>3.262549</td>\n",
       "      <td>20.508743</td>\n",
       "      <td>23.219744</td>\n",
       "      <td>14.419596</td>\n",
       "    </tr>\n",
       "    <tr>\n",
       "      <th>min</th>\n",
       "      <td>1.000000</td>\n",
       "      <td>4.000000</td>\n",
       "      <td>1.000000</td>\n",
       "      <td>1.000000</td>\n",
       "      <td>120.000000</td>\n",
       "      <td>51.695653</td>\n",
       "      <td>50.072068</td>\n",
       "    </tr>\n",
       "    <tr>\n",
       "      <th>25%</th>\n",
       "      <td>238.250000</td>\n",
       "      <td>93.250000</td>\n",
       "      <td>9.000000</td>\n",
       "      <td>5.000000</td>\n",
       "      <td>137.000000</td>\n",
       "      <td>88.066185</td>\n",
       "      <td>62.282399</td>\n",
       "    </tr>\n",
       "    <tr>\n",
       "      <th>50%</th>\n",
       "      <td>475.500000</td>\n",
       "      <td>813.500000</td>\n",
       "      <td>18.000000</td>\n",
       "      <td>7.000000</td>\n",
       "      <td>156.000000</td>\n",
       "      <td>107.460231</td>\n",
       "      <td>73.642034</td>\n",
       "    </tr>\n",
       "    <tr>\n",
       "      <th>75%</th>\n",
       "      <td>712.750000</td>\n",
       "      <td>871.000000</td>\n",
       "      <td>29.000000</td>\n",
       "      <td>10.000000</td>\n",
       "      <td>174.000000</td>\n",
       "      <td>123.740114</td>\n",
       "      <td>86.417593</td>\n",
       "    </tr>\n",
       "    <tr>\n",
       "      <th>max</th>\n",
       "      <td>950.000000</td>\n",
       "      <td>917.000000</td>\n",
       "      <td>40.000000</td>\n",
       "      <td>12.000000</td>\n",
       "      <td>190.000000</td>\n",
       "      <td>157.296683</td>\n",
       "      <td>99.986463</td>\n",
       "    </tr>\n",
       "  </tbody>\n",
       "</table>\n",
       "</div>"
      ],
      "text/plain": [
       "          VisitID  PatientMRN  ProviderID  VisitDepartmentID  \\\n",
       "count  950.000000  950.000000  950.000000         950.000000   \n",
       "mean   475.500000  592.648421   18.638947           7.252632   \n",
       "std    274.385677  345.126034   11.392470           3.262549   \n",
       "min      1.000000    4.000000    1.000000           1.000000   \n",
       "25%    238.250000   93.250000    9.000000           5.000000   \n",
       "50%    475.500000  813.500000   18.000000           7.000000   \n",
       "75%    712.750000  871.000000   29.000000          10.000000   \n",
       "max    950.000000  917.000000   40.000000          12.000000   \n",
       "\n",
       "       BloodPressureSystolic  BloodPressureDiastolic       Pulse  \n",
       "count             826.000000              826.000000  826.000000  \n",
       "mean              155.815981              106.841232   74.464751  \n",
       "std                20.508743               23.219744   14.419596  \n",
       "min               120.000000               51.695653   50.072068  \n",
       "25%               137.000000               88.066185   62.282399  \n",
       "50%               156.000000              107.460231   73.642034  \n",
       "75%               174.000000              123.740114   86.417593  \n",
       "max               190.000000              157.296683   99.986463  "
      ]
     },
     "execution_count": 213,
     "metadata": {},
     "output_type": "execute_result"
    }
   ],
   "source": [
    "AmbulatoryVisits.describe()"
   ]
  },
  {
   "cell_type": "markdown",
   "id": "86012163",
   "metadata": {},
   "source": [
    "### 24. Ambulance Visits KPI - based on visit status"
   ]
  },
  {
   "cell_type": "code",
   "execution_count": 35,
   "id": "deb0a8be",
   "metadata": {},
   "outputs": [
    {
     "data": {
      "text/html": [
       "<div>\n",
       "<style scoped>\n",
       "    .dataframe tbody tr th:only-of-type {\n",
       "        vertical-align: middle;\n",
       "    }\n",
       "\n",
       "    .dataframe tbody tr th {\n",
       "        vertical-align: top;\n",
       "    }\n",
       "\n",
       "    .dataframe thead th {\n",
       "        text-align: right;\n",
       "    }\n",
       "</style>\n",
       "<table border=\"1\" class=\"dataframe\">\n",
       "  <thead>\n",
       "    <tr style=\"text-align: right;\">\n",
       "      <th></th>\n",
       "      <th>VisitStatus</th>\n",
       "      <th>VisitID</th>\n",
       "    </tr>\n",
       "  </thead>\n",
       "  <tbody>\n",
       "    <tr>\n",
       "      <th>0</th>\n",
       "      <td>Canceled</td>\n",
       "      <td>60</td>\n",
       "    </tr>\n",
       "    <tr>\n",
       "      <th>1</th>\n",
       "      <td>Completed</td>\n",
       "      <td>736</td>\n",
       "    </tr>\n",
       "    <tr>\n",
       "      <th>2</th>\n",
       "      <td>No Show</td>\n",
       "      <td>154</td>\n",
       "    </tr>\n",
       "  </tbody>\n",
       "</table>\n",
       "</div>"
      ],
      "text/plain": [
       "  VisitStatus  VisitID\n",
       "0    Canceled       60\n",
       "1   Completed      736\n",
       "2     No Show      154"
      ]
     },
     "execution_count": 35,
     "metadata": {},
     "output_type": "execute_result"
    }
   ],
   "source": [
    "AmbulatoryVisits.head()\n",
    "\n",
    "AV_KPI=AmbulatoryVisits.groupby(['VisitStatus'])['VisitID'].count().reset_index()\n",
    "AV_KPI"
   ]
  },
  {
   "cell_type": "code",
   "execution_count": 36,
   "id": "6a8b8bab",
   "metadata": {
    "scrolled": true
   },
   "outputs": [
    {
     "data": {
      "image/png": "[encoded data removed]",
      "text/plain": [
       "<Figure size 432x288 with 1 Axes>"
      ]
     },
     "metadata": {},
     "output_type": "display_data"
    }
   ],
   "source": [
    "plt.pie(AV_KPI[\"VisitID\"], labels= AV_KPI[\"VisitID\"], radius=1.5,startangle=90)\n",
    "plt.legend(AV_KPI[\"VisitStatus\"], loc=\"best\")\n",
    "plt.show()\n"
   ]
  },
  {
   "cell_type": "markdown",
   "id": "ea338202",
   "metadata": {},
   "source": [
    "### 25. Finding the correlation between the coulumns in AmbulatoryVisits"
   ]
  },
  {
   "cell_type": "code",
   "execution_count": 39,
   "id": "f92d16c8",
   "metadata": {
    "scrolled": true
   },
   "outputs": [
    {
     "data": {
      "text/html": [
       "<div>\n",
       "<style scoped>\n",
       "    .dataframe tbody tr th:only-of-type {\n",
       "        vertical-align: middle;\n",
       "    }\n",
       "\n",
       "    .dataframe tbody tr th {\n",
       "        vertical-align: top;\n",
       "    }\n",
       "\n",
       "    .dataframe thead th {\n",
       "        text-align: right;\n",
       "    }\n",
       "</style>\n",
       "<table border=\"1\" class=\"dataframe\">\n",
       "  <thead>\n",
       "    <tr style=\"text-align: right;\">\n",
       "      <th></th>\n",
       "      <th>VisitID</th>\n",
       "      <th>PatientMRN</th>\n",
       "      <th>ProviderID</th>\n",
       "      <th>VisitDepartmentID</th>\n",
       "      <th>BloodPressureSystolic</th>\n",
       "      <th>BloodPressureDiastolic</th>\n",
       "      <th>Pulse</th>\n",
       "    </tr>\n",
       "  </thead>\n",
       "  <tbody>\n",
       "    <tr>\n",
       "      <th>VisitID</th>\n",
       "      <td>1.000000</td>\n",
       "      <td>0.519586</td>\n",
       "      <td>-0.039377</td>\n",
       "      <td>0.131367</td>\n",
       "      <td>-0.015248</td>\n",
       "      <td>-0.010427</td>\n",
       "      <td>0.004948</td>\n",
       "    </tr>\n",
       "    <tr>\n",
       "      <th>PatientMRN</th>\n",
       "      <td>0.519586</td>\n",
       "      <td>1.000000</td>\n",
       "      <td>0.020446</td>\n",
       "      <td>0.011503</td>\n",
       "      <td>-0.032377</td>\n",
       "      <td>-0.021439</td>\n",
       "      <td>0.030192</td>\n",
       "    </tr>\n",
       "    <tr>\n",
       "      <th>ProviderID</th>\n",
       "      <td>-0.039377</td>\n",
       "      <td>0.020446</td>\n",
       "      <td>1.000000</td>\n",
       "      <td>0.016292</td>\n",
       "      <td>0.000766</td>\n",
       "      <td>0.007212</td>\n",
       "      <td>-0.102517</td>\n",
       "    </tr>\n",
       "    <tr>\n",
       "      <th>VisitDepartmentID</th>\n",
       "      <td>0.131367</td>\n",
       "      <td>0.011503</td>\n",
       "      <td>0.016292</td>\n",
       "      <td>1.000000</td>\n",
       "      <td>0.023426</td>\n",
       "      <td>0.041818</td>\n",
       "      <td>0.009064</td>\n",
       "    </tr>\n",
       "    <tr>\n",
       "      <th>BloodPressureSystolic</th>\n",
       "      <td>-0.015248</td>\n",
       "      <td>-0.032377</td>\n",
       "      <td>0.000766</td>\n",
       "      <td>0.023426</td>\n",
       "      <td>1.000000</td>\n",
       "      <td>0.864880</td>\n",
       "      <td>0.044034</td>\n",
       "    </tr>\n",
       "    <tr>\n",
       "      <th>BloodPressureDiastolic</th>\n",
       "      <td>-0.010427</td>\n",
       "      <td>-0.021439</td>\n",
       "      <td>0.007212</td>\n",
       "      <td>0.041818</td>\n",
       "      <td>0.864880</td>\n",
       "      <td>1.000000</td>\n",
       "      <td>0.046617</td>\n",
       "    </tr>\n",
       "    <tr>\n",
       "      <th>Pulse</th>\n",
       "      <td>0.004948</td>\n",
       "      <td>0.030192</td>\n",
       "      <td>-0.102517</td>\n",
       "      <td>0.009064</td>\n",
       "      <td>0.044034</td>\n",
       "      <td>0.046617</td>\n",
       "      <td>1.000000</td>\n",
       "    </tr>\n",
       "  </tbody>\n",
       "</table>\n",
       "</div>"
      ],
      "text/plain": [
       "                         VisitID  PatientMRN  ProviderID  VisitDepartmentID  \\\n",
       "VisitID                 1.000000    0.519586   -0.039377           0.131367   \n",
       "PatientMRN              0.519586    1.000000    0.020446           0.011503   \n",
       "ProviderID             -0.039377    0.020446    1.000000           0.016292   \n",
       "VisitDepartmentID       0.131367    0.011503    0.016292           1.000000   \n",
       "BloodPressureSystolic  -0.015248   -0.032377    0.000766           0.023426   \n",
       "BloodPressureDiastolic -0.010427   -0.021439    0.007212           0.041818   \n",
       "Pulse                   0.004948    0.030192   -0.102517           0.009064   \n",
       "\n",
       "                        BloodPressureSystolic  BloodPressureDiastolic  \\\n",
       "VisitID                             -0.015248               -0.010427   \n",
       "PatientMRN                          -0.032377               -0.021439   \n",
       "ProviderID                           0.000766                0.007212   \n",
       "VisitDepartmentID                    0.023426                0.041818   \n",
       "BloodPressureSystolic                1.000000                0.864880   \n",
       "BloodPressureDiastolic               0.864880                1.000000   \n",
       "Pulse                                0.044034                0.046617   \n",
       "\n",
       "                           Pulse  \n",
       "VisitID                 0.004948  \n",
       "PatientMRN              0.030192  \n",
       "ProviderID             -0.102517  \n",
       "VisitDepartmentID       0.009064  \n",
       "BloodPressureSystolic   0.044034  \n",
       "BloodPressureDiastolic  0.046617  \n",
       "Pulse                   1.000000  "
      ]
     },
     "execution_count": 39,
     "metadata": {},
     "output_type": "execute_result"
    }
   ],
   "source": [
    "matrix=AmbulatoryVisits.corr()\n",
    "matrix\n"
   ]
  },
  {
   "cell_type": "markdown",
   "id": "eed8f000",
   "metadata": {},
   "source": [
    "### 26. Visualizing the correlation."
   ]
  },
  {
   "cell_type": "code",
   "execution_count": 40,
   "id": "98164ea7",
   "metadata": {},
   "outputs": [
    {
     "data": {
      "image/png": "[encoded data removed]",
      "text/plain": [
       "<Figure size 576x576 with 2 Axes>"
      ]
     },
     "metadata": {},
     "output_type": "display_data"
    }
   ],
   "source": [
    "plt.figure(figsize=(8,8))\n",
    "cmap = sb.diverging_palette(230, 20, as_cmap=True)\n",
    "dataplot = sb.heatmap(AmbulatoryVisits.corr(), cmap=\"coolwarm\", annot=True)"
   ]
  },
  {
   "cell_type": "markdown",
   "id": "3a5b856e",
   "metadata": {},
   "source": [
    "# Analysis on ReAdmissionRegistry sheet."
   ]
  },
  {
   "cell_type": "markdown",
   "id": "4b27df9b",
   "metadata": {},
   "source": [
    "### 27.Numbers of rows & columns in the data sheet ReAdmissionRegistry."
   ]
  },
  {
   "cell_type": "code",
   "execution_count": 214,
   "id": "08292d48",
   "metadata": {
    "scrolled": true
   },
   "outputs": [
    {
     "data": {
      "text/plain": [
       "(720, 12)"
      ]
     },
     "execution_count": 214,
     "metadata": {},
     "output_type": "execute_result"
    }
   ],
   "source": [
    "ReAdmissionRegistry=df['ReAdmissionRegistry']\n",
    "ReAdmissionRegistry.shape"
   ]
  },
  {
   "cell_type": "code",
   "execution_count": 215,
   "id": "fda3614c",
   "metadata": {},
   "outputs": [
    {
     "name": "stdout",
     "output_type": "stream",
     "text": [
      "<class 'pandas.core.frame.DataFrame'>\n",
      "RangeIndex: 720 entries, 0 to 719\n",
      "Data columns (total 12 columns):\n",
      " #   Column                     Non-Null Count  Dtype         \n",
      "---  ------                     --------------  -----         \n",
      " 0   AdmissionID                720 non-null    float64       \n",
      " 1   PatientID                  720 non-null    float64       \n",
      " 2   AdmissionDate              720 non-null    datetime64[ns]\n",
      " 3   DischargeDate              720 non-null    datetime64[ns]\n",
      " 4   DischargeDisposition       720 non-null    object        \n",
      " 5   Service                    720 non-null    object        \n",
      " 6   PrimaryDiagnosis           720 non-null    object        \n",
      " 7   ExpectedLOS                720 non-null    float64       \n",
      " 8   ExpectedMortality          720 non-null    float64       \n",
      " 9   ReadmissionFlag            194 non-null    float64       \n",
      " 10  DaysToReadmission          194 non-null    float64       \n",
      " 11  EDVisitAfterDischargeFlag  341 non-null    float64       \n",
      "dtypes: datetime64[ns](2), float64(7), object(3)\n",
      "memory usage: 67.6+ KB\n"
     ]
    }
   ],
   "source": [
    "ReAdmissionRegistry.info()"
   ]
  },
  {
   "cell_type": "code",
   "execution_count": 216,
   "id": "12891d78",
   "metadata": {},
   "outputs": [
    {
     "data": {
      "text/html": [
       "<div>\n",
       "<style scoped>\n",
       "    .dataframe tbody tr th:only-of-type {\n",
       "        vertical-align: middle;\n",
       "    }\n",
       "\n",
       "    .dataframe tbody tr th {\n",
       "        vertical-align: top;\n",
       "    }\n",
       "\n",
       "    .dataframe thead th {\n",
       "        text-align: right;\n",
       "    }\n",
       "</style>\n",
       "<table border=\"1\" class=\"dataframe\">\n",
       "  <thead>\n",
       "    <tr style=\"text-align: right;\">\n",
       "      <th></th>\n",
       "      <th>AdmissionID</th>\n",
       "      <th>PatientID</th>\n",
       "      <th>ExpectedLOS</th>\n",
       "      <th>ExpectedMortality</th>\n",
       "      <th>ReadmissionFlag</th>\n",
       "      <th>DaysToReadmission</th>\n",
       "      <th>EDVisitAfterDischargeFlag</th>\n",
       "    </tr>\n",
       "  </thead>\n",
       "  <tbody>\n",
       "    <tr>\n",
       "      <th>count</th>\n",
       "      <td>720.000000</td>\n",
       "      <td>720.000000</td>\n",
       "      <td>720.000000</td>\n",
       "      <td>720.000000</td>\n",
       "      <td>194.0</td>\n",
       "      <td>194.000000</td>\n",
       "      <td>341.0</td>\n",
       "    </tr>\n",
       "    <tr>\n",
       "      <th>mean</th>\n",
       "      <td>360.500000</td>\n",
       "      <td>366.158333</td>\n",
       "      <td>8.824589</td>\n",
       "      <td>0.338063</td>\n",
       "      <td>1.0</td>\n",
       "      <td>5.360825</td>\n",
       "      <td>1.0</td>\n",
       "    </tr>\n",
       "    <tr>\n",
       "      <th>std</th>\n",
       "      <td>207.990384</td>\n",
       "      <td>218.223501</td>\n",
       "      <td>4.034421</td>\n",
       "      <td>0.238868</td>\n",
       "      <td>0.0</td>\n",
       "      <td>3.866116</td>\n",
       "      <td>0.0</td>\n",
       "    </tr>\n",
       "    <tr>\n",
       "      <th>min</th>\n",
       "      <td>1.000000</td>\n",
       "      <td>1.000000</td>\n",
       "      <td>2.012974</td>\n",
       "      <td>0.000006</td>\n",
       "      <td>1.0</td>\n",
       "      <td>1.000000</td>\n",
       "      <td>1.0</td>\n",
       "    </tr>\n",
       "    <tr>\n",
       "      <th>25%</th>\n",
       "      <td>180.750000</td>\n",
       "      <td>175.750000</td>\n",
       "      <td>5.138501</td>\n",
       "      <td>0.139771</td>\n",
       "      <td>1.0</td>\n",
       "      <td>3.000000</td>\n",
       "      <td>1.0</td>\n",
       "    </tr>\n",
       "    <tr>\n",
       "      <th>50%</th>\n",
       "      <td>360.500000</td>\n",
       "      <td>353.500000</td>\n",
       "      <td>8.633825</td>\n",
       "      <td>0.297242</td>\n",
       "      <td>1.0</td>\n",
       "      <td>5.000000</td>\n",
       "      <td>1.0</td>\n",
       "    </tr>\n",
       "    <tr>\n",
       "      <th>75%</th>\n",
       "      <td>540.250000</td>\n",
       "      <td>557.250000</td>\n",
       "      <td>12.107623</td>\n",
       "      <td>0.496387</td>\n",
       "      <td>1.0</td>\n",
       "      <td>5.000000</td>\n",
       "      <td>1.0</td>\n",
       "    </tr>\n",
       "    <tr>\n",
       "      <th>max</th>\n",
       "      <td>720.000000</td>\n",
       "      <td>742.000000</td>\n",
       "      <td>16.998213</td>\n",
       "      <td>0.989945</td>\n",
       "      <td>1.0</td>\n",
       "      <td>19.000000</td>\n",
       "      <td>1.0</td>\n",
       "    </tr>\n",
       "  </tbody>\n",
       "</table>\n",
       "</div>"
      ],
      "text/plain": [
       "       AdmissionID   PatientID  ExpectedLOS  ExpectedMortality  \\\n",
       "count   720.000000  720.000000   720.000000         720.000000   \n",
       "mean    360.500000  366.158333     8.824589           0.338063   \n",
       "std     207.990384  218.223501     4.034421           0.238868   \n",
       "min       1.000000    1.000000     2.012974           0.000006   \n",
       "25%     180.750000  175.750000     5.138501           0.139771   \n",
       "50%     360.500000  353.500000     8.633825           0.297242   \n",
       "75%     540.250000  557.250000    12.107623           0.496387   \n",
       "max     720.000000  742.000000    16.998213           0.989945   \n",
       "\n",
       "       ReadmissionFlag  DaysToReadmission  EDVisitAfterDischargeFlag  \n",
       "count            194.0         194.000000                      341.0  \n",
       "mean               1.0           5.360825                        1.0  \n",
       "std                0.0           3.866116                        0.0  \n",
       "min                1.0           1.000000                        1.0  \n",
       "25%                1.0           3.000000                        1.0  \n",
       "50%                1.0           5.000000                        1.0  \n",
       "75%                1.0           5.000000                        1.0  \n",
       "max                1.0          19.000000                        1.0  "
      ]
     },
     "execution_count": 216,
     "metadata": {},
     "output_type": "execute_result"
    }
   ],
   "source": [
    "ReAdmissionRegistry.describe()"
   ]
  },
  {
   "cell_type": "code",
   "execution_count": 217,
   "id": "b0a554b4",
   "metadata": {
    "scrolled": true
   },
   "outputs": [
    {
     "data": {
      "text/plain": [
       "0"
      ]
     },
     "execution_count": 217,
     "metadata": {},
     "output_type": "execute_result"
    }
   ],
   "source": [
    "ReAdmissionRegistry.duplicated().sum()"
   ]
  },
  {
   "cell_type": "markdown",
   "id": "00daf40d",
   "metadata": {},
   "source": [
    "### 28.Seeing Patient_ID column in both Patients & ReAdmissionRegistry sheet."
   ]
  },
  {
   "cell_type": "code",
   "execution_count": 218,
   "id": "ebcf3c17",
   "metadata": {
    "scrolled": true
   },
   "outputs": [
    {
     "data": {
      "text/html": [
       "<div>\n",
       "<style scoped>\n",
       "    .dataframe tbody tr th:only-of-type {\n",
       "        vertical-align: middle;\n",
       "    }\n",
       "\n",
       "    .dataframe tbody tr th {\n",
       "        vertical-align: top;\n",
       "    }\n",
       "\n",
       "    .dataframe thead th {\n",
       "        text-align: right;\n",
       "    }\n",
       "</style>\n",
       "<table border=\"1\" class=\"dataframe\">\n",
       "  <thead>\n",
       "    <tr style=\"text-align: right;\">\n",
       "      <th></th>\n",
       "      <th>PatientID</th>\n",
       "      <th>FirstName</th>\n",
       "      <th>LastName</th>\n",
       "      <th>DateOfBirth</th>\n",
       "      <th>Gender</th>\n",
       "      <th>Race</th>\n",
       "      <th>Language</th>\n",
       "      <th>AdmissionID</th>\n",
       "      <th>AdmissionDate</th>\n",
       "      <th>DischargeDate</th>\n",
       "      <th>DischargeDisposition</th>\n",
       "      <th>Service</th>\n",
       "      <th>PrimaryDiagnosis</th>\n",
       "      <th>ExpectedLOS</th>\n",
       "      <th>ExpectedMortality</th>\n",
       "      <th>ReadmissionFlag</th>\n",
       "      <th>DaysToReadmission</th>\n",
       "      <th>EDVisitAfterDischargeFlag</th>\n",
       "    </tr>\n",
       "  </thead>\n",
       "  <tbody>\n",
       "    <tr>\n",
       "      <th>0</th>\n",
       "      <td>1.0</td>\n",
       "      <td>Lanni</td>\n",
       "      <td>Sue</td>\n",
       "      <td>1960-01-01 00:00:00.000</td>\n",
       "      <td>Male</td>\n",
       "      <td>White</td>\n",
       "      <td>English</td>\n",
       "      <td>389.0</td>\n",
       "      <td>2018-01-01</td>\n",
       "      <td>2018-01-04 19:59:31.391</td>\n",
       "      <td>Home</td>\n",
       "      <td>Hospitalist</td>\n",
       "      <td>Kidney Failure</td>\n",
       "      <td>6.717771</td>\n",
       "      <td>0.010046</td>\n",
       "      <td>NaN</td>\n",
       "      <td>NaN</td>\n",
       "      <td>NaN</td>\n",
       "    </tr>\n",
       "    <tr>\n",
       "      <th>1</th>\n",
       "      <td>2.0</td>\n",
       "      <td>Far</td>\n",
       "      <td>Myers</td>\n",
       "      <td>1985-11-15 02:08:42.090</td>\n",
       "      <td>Male</td>\n",
       "      <td>White</td>\n",
       "      <td>English</td>\n",
       "      <td>635.0</td>\n",
       "      <td>2018-01-01</td>\n",
       "      <td>2018-01-04 21:28:51.898</td>\n",
       "      <td>Home</td>\n",
       "      <td>General Medicine</td>\n",
       "      <td>Flu</td>\n",
       "      <td>3.825969</td>\n",
       "      <td>0.604562</td>\n",
       "      <td>1.0</td>\n",
       "      <td>2.0</td>\n",
       "      <td>1.0</td>\n",
       "    </tr>\n",
       "    <tr>\n",
       "      <th>2</th>\n",
       "      <td>3.0</td>\n",
       "      <td>Devlin</td>\n",
       "      <td>Michael</td>\n",
       "      <td>1976-04-15 02:52:09.762</td>\n",
       "      <td>Male</td>\n",
       "      <td>White</td>\n",
       "      <td>English</td>\n",
       "      <td>606.0</td>\n",
       "      <td>2018-01-01</td>\n",
       "      <td>2018-01-04 22:28:23.672</td>\n",
       "      <td>Home</td>\n",
       "      <td>General Medicine</td>\n",
       "      <td>Flu</td>\n",
       "      <td>3.382493</td>\n",
       "      <td>0.266137</td>\n",
       "      <td>1.0</td>\n",
       "      <td>3.0</td>\n",
       "      <td>1.0</td>\n",
       "    </tr>\n",
       "    <tr>\n",
       "      <th>3</th>\n",
       "      <td>5.0</td>\n",
       "      <td>Tann</td>\n",
       "      <td>Bama</td>\n",
       "      <td>1962-05-01 19:12:58.950</td>\n",
       "      <td>Male</td>\n",
       "      <td>White</td>\n",
       "      <td>English</td>\n",
       "      <td>587.0</td>\n",
       "      <td>2018-01-01</td>\n",
       "      <td>2018-01-05 05:47:04.933</td>\n",
       "      <td>Home</td>\n",
       "      <td>General Medicine</td>\n",
       "      <td>Flu</td>\n",
       "      <td>3.763352</td>\n",
       "      <td>0.307527</td>\n",
       "      <td>1.0</td>\n",
       "      <td>4.0</td>\n",
       "      <td>1.0</td>\n",
       "    </tr>\n",
       "    <tr>\n",
       "      <th>4</th>\n",
       "      <td>6.0</td>\n",
       "      <td>Jerrilyn</td>\n",
       "      <td>Kane</td>\n",
       "      <td>1969-03-30 09:36:56.550</td>\n",
       "      <td>Male</td>\n",
       "      <td>White</td>\n",
       "      <td>English</td>\n",
       "      <td>640.0</td>\n",
       "      <td>2018-01-01</td>\n",
       "      <td>2018-01-05 14:18:30.029</td>\n",
       "      <td>Home</td>\n",
       "      <td>ICU</td>\n",
       "      <td>Heart Failure</td>\n",
       "      <td>13.650953</td>\n",
       "      <td>0.408898</td>\n",
       "      <td>NaN</td>\n",
       "      <td>NaN</td>\n",
       "      <td>NaN</td>\n",
       "    </tr>\n",
       "  </tbody>\n",
       "</table>\n",
       "</div>"
      ],
      "text/plain": [
       "   PatientID  FirstName LastName             DateOfBirth Gender   Race  \\\n",
       "0        1.0      Lanni      Sue 1960-01-01 00:00:00.000   Male  White   \n",
       "1        2.0        Far    Myers 1985-11-15 02:08:42.090   Male  White   \n",
       "2        3.0    Devlin   Michael 1976-04-15 02:52:09.762   Male  White   \n",
       "3        5.0      Tann      Bama 1962-05-01 19:12:58.950   Male  White   \n",
       "4        6.0  Jerrilyn      Kane 1969-03-30 09:36:56.550   Male  White   \n",
       "\n",
       "  Language  AdmissionID AdmissionDate           DischargeDate  \\\n",
       "0  English        389.0    2018-01-01 2018-01-04 19:59:31.391   \n",
       "1  English        635.0    2018-01-01 2018-01-04 21:28:51.898   \n",
       "2  English        606.0    2018-01-01 2018-01-04 22:28:23.672   \n",
       "3  English        587.0    2018-01-01 2018-01-05 05:47:04.933   \n",
       "4  English        640.0    2018-01-01 2018-01-05 14:18:30.029   \n",
       "\n",
       "  DischargeDisposition           Service PrimaryDiagnosis  ExpectedLOS  \\\n",
       "0                 Home       Hospitalist   Kidney Failure     6.717771   \n",
       "1                 Home  General Medicine              Flu     3.825969   \n",
       "2                 Home  General Medicine              Flu     3.382493   \n",
       "3                 Home  General Medicine              Flu     3.763352   \n",
       "4                 Home               ICU    Heart Failure    13.650953   \n",
       "\n",
       "   ExpectedMortality  ReadmissionFlag  DaysToReadmission  \\\n",
       "0           0.010046              NaN                NaN   \n",
       "1           0.604562              1.0                2.0   \n",
       "2           0.266137              1.0                3.0   \n",
       "3           0.307527              1.0                4.0   \n",
       "4           0.408898              NaN                NaN   \n",
       "\n",
       "   EDVisitAfterDischargeFlag  \n",
       "0                        NaN  \n",
       "1                        1.0  \n",
       "2                        1.0  \n",
       "3                        1.0  \n",
       "4                        NaN  "
      ]
     },
     "execution_count": 218,
     "metadata": {},
     "output_type": "execute_result"
    }
   ],
   "source": [
    "# Joining the Patients & ReAdmissionRegistry sheet with common column PatientID to get some insights.\n",
    "\n",
    "dfnew_inner= pd.merge(patients,ReAdmissionRegistry, on='PatientID', how='inner')\n",
    "dfnew_inner.head()"
   ]
  },
  {
   "cell_type": "code",
   "execution_count": 219,
   "id": "5fbbea32",
   "metadata": {
    "scrolled": true
   },
   "outputs": [
    {
     "data": {
      "text/html": [
       "<div>\n",
       "<style scoped>\n",
       "    .dataframe tbody tr th:only-of-type {\n",
       "        vertical-align: middle;\n",
       "    }\n",
       "\n",
       "    .dataframe tbody tr th {\n",
       "        vertical-align: top;\n",
       "    }\n",
       "\n",
       "    .dataframe thead th {\n",
       "        text-align: right;\n",
       "    }\n",
       "</style>\n",
       "<table border=\"1\" class=\"dataframe\">\n",
       "  <thead>\n",
       "    <tr style=\"text-align: right;\">\n",
       "      <th></th>\n",
       "      <th>PatientID</th>\n",
       "      <th>FirstName</th>\n",
       "      <th>LastName</th>\n",
       "      <th>DateOfBirth</th>\n",
       "      <th>Gender</th>\n",
       "      <th>Race</th>\n",
       "      <th>Language</th>\n",
       "      <th>AdmissionID</th>\n",
       "      <th>AdmissionDate</th>\n",
       "      <th>DischargeDate</th>\n",
       "      <th>DischargeDisposition</th>\n",
       "      <th>Service</th>\n",
       "      <th>PrimaryDiagnosis</th>\n",
       "      <th>ExpectedLOS</th>\n",
       "      <th>ExpectedMortality</th>\n",
       "      <th>ReadmissionFlag</th>\n",
       "      <th>DaysToReadmission</th>\n",
       "      <th>EDVisitAfterDischargeFlag</th>\n",
       "      <th>dis_Date</th>\n",
       "      <th>dis_Time</th>\n",
       "    </tr>\n",
       "  </thead>\n",
       "  <tbody>\n",
       "    <tr>\n",
       "      <th>0</th>\n",
       "      <td>1.0</td>\n",
       "      <td>Lanni</td>\n",
       "      <td>Sue</td>\n",
       "      <td>1960-01-01 00:00:00.000</td>\n",
       "      <td>Male</td>\n",
       "      <td>White</td>\n",
       "      <td>English</td>\n",
       "      <td>389.0</td>\n",
       "      <td>2018-01-01</td>\n",
       "      <td>2018-01-04 19:59:31.391</td>\n",
       "      <td>Home</td>\n",
       "      <td>Hospitalist</td>\n",
       "      <td>Kidney Failure</td>\n",
       "      <td>6.717771</td>\n",
       "      <td>0.010046</td>\n",
       "      <td>NaN</td>\n",
       "      <td>NaN</td>\n",
       "      <td>NaN</td>\n",
       "      <td>2018-01-04</td>\n",
       "      <td>19:59:31.391000</td>\n",
       "    </tr>\n",
       "    <tr>\n",
       "      <th>1</th>\n",
       "      <td>2.0</td>\n",
       "      <td>Far</td>\n",
       "      <td>Myers</td>\n",
       "      <td>1985-11-15 02:08:42.090</td>\n",
       "      <td>Male</td>\n",
       "      <td>White</td>\n",
       "      <td>English</td>\n",
       "      <td>635.0</td>\n",
       "      <td>2018-01-01</td>\n",
       "      <td>2018-01-04 21:28:51.898</td>\n",
       "      <td>Home</td>\n",
       "      <td>General Medicine</td>\n",
       "      <td>Flu</td>\n",
       "      <td>3.825969</td>\n",
       "      <td>0.604562</td>\n",
       "      <td>1.0</td>\n",
       "      <td>2.0</td>\n",
       "      <td>1.0</td>\n",
       "      <td>2018-01-04</td>\n",
       "      <td>21:28:51.898000</td>\n",
       "    </tr>\n",
       "    <tr>\n",
       "      <th>2</th>\n",
       "      <td>3.0</td>\n",
       "      <td>Devlin</td>\n",
       "      <td>Michael</td>\n",
       "      <td>1976-04-15 02:52:09.762</td>\n",
       "      <td>Male</td>\n",
       "      <td>White</td>\n",
       "      <td>English</td>\n",
       "      <td>606.0</td>\n",
       "      <td>2018-01-01</td>\n",
       "      <td>2018-01-04 22:28:23.672</td>\n",
       "      <td>Home</td>\n",
       "      <td>General Medicine</td>\n",
       "      <td>Flu</td>\n",
       "      <td>3.382493</td>\n",
       "      <td>0.266137</td>\n",
       "      <td>1.0</td>\n",
       "      <td>3.0</td>\n",
       "      <td>1.0</td>\n",
       "      <td>2018-01-04</td>\n",
       "      <td>22:28:23.672000</td>\n",
       "    </tr>\n",
       "    <tr>\n",
       "      <th>3</th>\n",
       "      <td>5.0</td>\n",
       "      <td>Tann</td>\n",
       "      <td>Bama</td>\n",
       "      <td>1962-05-01 19:12:58.950</td>\n",
       "      <td>Male</td>\n",
       "      <td>White</td>\n",
       "      <td>English</td>\n",
       "      <td>587.0</td>\n",
       "      <td>2018-01-01</td>\n",
       "      <td>2018-01-05 05:47:04.933</td>\n",
       "      <td>Home</td>\n",
       "      <td>General Medicine</td>\n",
       "      <td>Flu</td>\n",
       "      <td>3.763352</td>\n",
       "      <td>0.307527</td>\n",
       "      <td>1.0</td>\n",
       "      <td>4.0</td>\n",
       "      <td>1.0</td>\n",
       "      <td>2018-01-05</td>\n",
       "      <td>05:47:04.933000</td>\n",
       "    </tr>\n",
       "    <tr>\n",
       "      <th>4</th>\n",
       "      <td>6.0</td>\n",
       "      <td>Jerrilyn</td>\n",
       "      <td>Kane</td>\n",
       "      <td>1969-03-30 09:36:56.550</td>\n",
       "      <td>Male</td>\n",
       "      <td>White</td>\n",
       "      <td>English</td>\n",
       "      <td>640.0</td>\n",
       "      <td>2018-01-01</td>\n",
       "      <td>2018-01-05 14:18:30.029</td>\n",
       "      <td>Home</td>\n",
       "      <td>ICU</td>\n",
       "      <td>Heart Failure</td>\n",
       "      <td>13.650953</td>\n",
       "      <td>0.408898</td>\n",
       "      <td>NaN</td>\n",
       "      <td>NaN</td>\n",
       "      <td>NaN</td>\n",
       "      <td>2018-01-05</td>\n",
       "      <td>14:18:30.029000</td>\n",
       "    </tr>\n",
       "  </tbody>\n",
       "</table>\n",
       "</div>"
      ],
      "text/plain": [
       "   PatientID  FirstName LastName             DateOfBirth Gender   Race  \\\n",
       "0        1.0      Lanni      Sue 1960-01-01 00:00:00.000   Male  White   \n",
       "1        2.0        Far    Myers 1985-11-15 02:08:42.090   Male  White   \n",
       "2        3.0    Devlin   Michael 1976-04-15 02:52:09.762   Male  White   \n",
       "3        5.0      Tann      Bama 1962-05-01 19:12:58.950   Male  White   \n",
       "4        6.0  Jerrilyn      Kane 1969-03-30 09:36:56.550   Male  White   \n",
       "\n",
       "  Language  AdmissionID AdmissionDate           DischargeDate  \\\n",
       "0  English        389.0    2018-01-01 2018-01-04 19:59:31.391   \n",
       "1  English        635.0    2018-01-01 2018-01-04 21:28:51.898   \n",
       "2  English        606.0    2018-01-01 2018-01-04 22:28:23.672   \n",
       "3  English        587.0    2018-01-01 2018-01-05 05:47:04.933   \n",
       "4  English        640.0    2018-01-01 2018-01-05 14:18:30.029   \n",
       "\n",
       "  DischargeDisposition           Service PrimaryDiagnosis  ExpectedLOS  \\\n",
       "0                 Home       Hospitalist   Kidney Failure     6.717771   \n",
       "1                 Home  General Medicine              Flu     3.825969   \n",
       "2                 Home  General Medicine              Flu     3.382493   \n",
       "3                 Home  General Medicine              Flu     3.763352   \n",
       "4                 Home               ICU    Heart Failure    13.650953   \n",
       "\n",
       "   ExpectedMortality  ReadmissionFlag  DaysToReadmission  \\\n",
       "0           0.010046              NaN                NaN   \n",
       "1           0.604562              1.0                2.0   \n",
       "2           0.266137              1.0                3.0   \n",
       "3           0.307527              1.0                4.0   \n",
       "4           0.408898              NaN                NaN   \n",
       "\n",
       "   EDVisitAfterDischargeFlag   dis_Date         dis_Time  \n",
       "0                        NaN 2018-01-04  19:59:31.391000  \n",
       "1                        1.0 2018-01-04  21:28:51.898000  \n",
       "2                        1.0 2018-01-04  22:28:23.672000  \n",
       "3                        1.0 2018-01-05  05:47:04.933000  \n",
       "4                        NaN 2018-01-05  14:18:30.029000  "
      ]
     },
     "execution_count": 219,
     "metadata": {},
     "output_type": "execute_result"
    }
   ],
   "source": [
    "#Doing the below as a part of data cleaning. which will enable us to analyze better.\n",
    "\n",
    "dfnew_inner['DischargeDate'] = pd.to_datetime(dfnew_inner['DischargeDate'])\n",
    "dfnew_inner['dis_Date'], dfnew_inner['dis_Time'] = dfnew_inner['DischargeDate'].dt.normalize(), dfnew_inner['DischargeDate'].dt.time\n",
    "dfnew_inner.head()"
   ]
  },
  {
   "cell_type": "markdown",
   "id": "77d74c01",
   "metadata": {},
   "source": [
    "### 29.Viewing the data based on discharge disposition & Primary Diagnosis:"
   ]
  },
  {
   "cell_type": "code",
   "execution_count": 220,
   "id": "6db684fc",
   "metadata": {},
   "outputs": [
    {
     "data": {
      "text/html": [
       "<div>\n",
       "<style scoped>\n",
       "    .dataframe tbody tr th:only-of-type {\n",
       "        vertical-align: middle;\n",
       "    }\n",
       "\n",
       "    .dataframe tbody tr th {\n",
       "        vertical-align: top;\n",
       "    }\n",
       "\n",
       "    .dataframe thead th {\n",
       "        text-align: right;\n",
       "    }\n",
       "</style>\n",
       "<table border=\"1\" class=\"dataframe\">\n",
       "  <thead>\n",
       "    <tr style=\"text-align: right;\">\n",
       "      <th></th>\n",
       "      <th>DischargeDisposition</th>\n",
       "      <th>PrimaryDiagnosis</th>\n",
       "      <th>PatientID</th>\n",
       "    </tr>\n",
       "  </thead>\n",
       "  <tbody>\n",
       "    <tr>\n",
       "      <th>0</th>\n",
       "      <td>Expired</td>\n",
       "      <td>AMI</td>\n",
       "      <td>6</td>\n",
       "    </tr>\n",
       "    <tr>\n",
       "      <th>1</th>\n",
       "      <td>Expired</td>\n",
       "      <td>Afib</td>\n",
       "      <td>4</td>\n",
       "    </tr>\n",
       "    <tr>\n",
       "      <th>2</th>\n",
       "      <td>Expired</td>\n",
       "      <td>Broken Leg</td>\n",
       "      <td>3</td>\n",
       "    </tr>\n",
       "    <tr>\n",
       "      <th>3</th>\n",
       "      <td>Expired</td>\n",
       "      <td>Diabetes</td>\n",
       "      <td>9</td>\n",
       "    </tr>\n",
       "    <tr>\n",
       "      <th>4</th>\n",
       "      <td>Expired</td>\n",
       "      <td>Fever</td>\n",
       "      <td>4</td>\n",
       "    </tr>\n",
       "  </tbody>\n",
       "</table>\n",
       "</div>"
      ],
      "text/plain": [
       "  DischargeDisposition PrimaryDiagnosis  PatientID\n",
       "0              Expired              AMI          6\n",
       "1              Expired             Afib          4\n",
       "2              Expired       Broken Leg          3\n",
       "3              Expired         Diabetes          9\n",
       "4              Expired            Fever          4"
      ]
     },
     "execution_count": 220,
     "metadata": {},
     "output_type": "execute_result"
    }
   ],
   "source": [
    "data_based_dd_pd=dfnew_inner.groupby(['DischargeDisposition','PrimaryDiagnosis'])['PatientID'].count().reset_index()\n",
    "data_based_dd_pd.head()"
   ]
  },
  {
   "cell_type": "code",
   "execution_count": 51,
   "id": "d19f9137",
   "metadata": {
    "scrolled": true
   },
   "outputs": [
    {
     "name": "stdout",
     "output_type": "stream",
     "text": [
      "Requirement already satisfied: squarify in c:\\users\\vaishali\\anaconda-setup\\lib\\site-packages (0.4.3)\n",
      "Note: you may need to restart the kernel to use updated packages.\n"
     ]
    }
   ],
   "source": [
    "pip install squarify"
   ]
  },
  {
   "cell_type": "markdown",
   "id": "c12da654",
   "metadata": {},
   "source": [
    "### 30. Visualizing patients based on PrimaryDiagnosis"
   ]
  },
  {
   "cell_type": "code",
   "execution_count": 54,
   "id": "a8d5feee",
   "metadata": {},
   "outputs": [
    {
     "ename": "NameError",
     "evalue": "name 'data_based_dd_pd' is not defined",
     "output_type": "error",
     "traceback": [
      "\u001b[1;31m---------------------------------------------------------------------------\u001b[0m",
      "\u001b[1;31mNameError\u001b[0m                                 Traceback (most recent call last)",
      "Input \u001b[1;32mIn [54]\u001b[0m, in \u001b[0;36m<cell line: 3>\u001b[1;34m()\u001b[0m\n\u001b[0;32m      1\u001b[0m \u001b[38;5;28;01mimport\u001b[39;00m \u001b[38;5;21;01mmatplotlib\u001b[39;00m\u001b[38;5;21;01m.\u001b[39;00m\u001b[38;5;21;01mpyplot\u001b[39;00m \u001b[38;5;28;01mas\u001b[39;00m \u001b[38;5;21;01mplt\u001b[39;00m\n\u001b[0;32m      2\u001b[0m \u001b[38;5;28;01mimport\u001b[39;00m \u001b[38;5;21;01msquarify\u001b[39;00m \n\u001b[1;32m----> 3\u001b[0m \u001b[43mdata_based_dd_pd\u001b[49m\u001b[38;5;241m.\u001b[39mhead()\n\u001b[0;32m      5\u001b[0m a\u001b[38;5;241m=\u001b[39mdata_based_dd_pd\u001b[38;5;241m.\u001b[39mgroupby(\u001b[38;5;124m'\u001b[39m\u001b[38;5;124mPrimaryDiagnosis\u001b[39m\u001b[38;5;124m'\u001b[39m)[[\u001b[38;5;124m'\u001b[39m\u001b[38;5;124mPatientID\u001b[39m\u001b[38;5;124m'\u001b[39m]]\u001b[38;5;241m.\u001b[39mcount()\u001b[38;5;241m.\u001b[39mindex\u001b[38;5;241m.\u001b[39mget_level_values(\u001b[38;5;241m0\u001b[39m)\u001b[38;5;241m.\u001b[39mtolist()\n\u001b[0;32m      7\u001b[0m b\u001b[38;5;241m=\u001b[39mdata_based_dd_pd\u001b[38;5;241m.\u001b[39mgroupby(\u001b[38;5;124m'\u001b[39m\u001b[38;5;124mPrimaryDiagnosis\u001b[39m\u001b[38;5;124m'\u001b[39m)[[\u001b[38;5;124m'\u001b[39m\u001b[38;5;124mPatientID\u001b[39m\u001b[38;5;124m'\u001b[39m]]\u001b[38;5;241m.\u001b[39mcount()\u001b[38;5;241m.\u001b[39mcount()\u001b[38;5;241m.\u001b[39mreset_index()\u001b[38;5;241m.\u001b[39mPatientID\u001b[38;5;241m.\u001b[39mvalues\u001b[38;5;241m.\u001b[39mtolist()\n",
      "\u001b[1;31mNameError\u001b[0m: name 'data_based_dd_pd' is not defined"
     ]
    }
   ],
   "source": [
    "\n",
    "import matplotlib.pyplot as plt\n",
    "import squarify \n",
    "data_based_dd_pd.head()\n",
    "\n",
    "a=data_based_dd_pd.groupby('PrimaryDiagnosis')[['PatientID']].count().index.get_level_values(0).tolist()\n",
    "\n",
    "b=data_based_dd_pd.groupby('PrimaryDiagnosis')[['PatientID']].count().count().reset_index().PatientID.values.tolist()\n",
    "plt.figure(figsize=(8,8))\n",
    "plt.title(\"Patients Based on PrimaryDiagnosis\",fontsize=23,fontweight=\"bold\")\n",
    "squarify.plot(sizes=b, label=a, alpha=.5,pad=True)\n",
    "plt.axis('off')\n",
    "plt.show()\n"
   ]
  },
  {
   "cell_type": "code",
   "execution_count": 231,
   "id": "b404e415",
   "metadata": {},
   "outputs": [
    {
     "data": {
      "text/plain": [
       "9.534722222222221"
      ]
     },
     "execution_count": 231,
     "metadata": {},
     "output_type": "execute_result"
    }
   ],
   "source": [
    "#dataframe used is dfnew_inner.created in above steps. added here for reference.\n",
    "\n",
    "#dfnew_inner= pd.merge(patients,readmission_reg, on='PatientID', how='inner')\n",
    "#dfnew_inner.head()\n",
    "\n",
    "dfnew_inner['LOS'] = (dfnew_inner['dis_Date'] - dfnew_inner['AdmissionDate']).dt.days\n",
    "dfnew_inner.head()\n",
    "\n",
    "dfnew_inner['LOS'].mean()"
   ]
  },
  {
   "cell_type": "markdown",
   "id": "3041454f",
   "metadata": {},
   "source": [
    "### 31. primary diagnosis has the highest values of LOS."
   ]
  },
  {
   "cell_type": "code",
   "execution_count": 233,
   "id": "ba8d6a93",
   "metadata": {},
   "outputs": [
    {
     "data": {
      "text/html": [
       "<div>\n",
       "<style scoped>\n",
       "    .dataframe tbody tr th:only-of-type {\n",
       "        vertical-align: middle;\n",
       "    }\n",
       "\n",
       "    .dataframe tbody tr th {\n",
       "        vertical-align: top;\n",
       "    }\n",
       "\n",
       "    .dataframe thead th {\n",
       "        text-align: right;\n",
       "    }\n",
       "</style>\n",
       "<table border=\"1\" class=\"dataframe\">\n",
       "  <thead>\n",
       "    <tr style=\"text-align: right;\">\n",
       "      <th></th>\n",
       "      <th>PrimaryDiagnosis</th>\n",
       "      <th>LOS</th>\n",
       "    </tr>\n",
       "  </thead>\n",
       "  <tbody>\n",
       "    <tr>\n",
       "      <th>0</th>\n",
       "      <td>AMI</td>\n",
       "      <td>48</td>\n",
       "    </tr>\n",
       "    <tr>\n",
       "      <th>1</th>\n",
       "      <td>Afib</td>\n",
       "      <td>11</td>\n",
       "    </tr>\n",
       "    <tr>\n",
       "      <th>2</th>\n",
       "      <td>Broken Leg</td>\n",
       "      <td>9</td>\n",
       "    </tr>\n",
       "    <tr>\n",
       "      <th>3</th>\n",
       "      <td>Diabetes</td>\n",
       "      <td>64</td>\n",
       "    </tr>\n",
       "    <tr>\n",
       "      <th>4</th>\n",
       "      <td>Fever</td>\n",
       "      <td>19</td>\n",
       "    </tr>\n",
       "    <tr>\n",
       "      <th>5</th>\n",
       "      <td>Flu</td>\n",
       "      <td>80</td>\n",
       "    </tr>\n",
       "    <tr>\n",
       "      <th>6</th>\n",
       "      <td>Heart Failure</td>\n",
       "      <td>78</td>\n",
       "    </tr>\n",
       "    <tr>\n",
       "      <th>7</th>\n",
       "      <td>Hip Fracture</td>\n",
       "      <td>23</td>\n",
       "    </tr>\n",
       "    <tr>\n",
       "      <th>8</th>\n",
       "      <td>Hypertension</td>\n",
       "      <td>50</td>\n",
       "    </tr>\n",
       "    <tr>\n",
       "      <th>9</th>\n",
       "      <td>Kidney Failure</td>\n",
       "      <td>20</td>\n",
       "    </tr>\n",
       "    <tr>\n",
       "      <th>10</th>\n",
       "      <td>Knee Replacement</td>\n",
       "      <td>23</td>\n",
       "    </tr>\n",
       "    <tr>\n",
       "      <th>11</th>\n",
       "      <td>Laceration</td>\n",
       "      <td>29</td>\n",
       "    </tr>\n",
       "    <tr>\n",
       "      <th>12</th>\n",
       "      <td>Migraine</td>\n",
       "      <td>12</td>\n",
       "    </tr>\n",
       "    <tr>\n",
       "      <th>13</th>\n",
       "      <td>Pain</td>\n",
       "      <td>7</td>\n",
       "    </tr>\n",
       "    <tr>\n",
       "      <th>14</th>\n",
       "      <td>Pneumonia</td>\n",
       "      <td>177</td>\n",
       "    </tr>\n",
       "    <tr>\n",
       "      <th>15</th>\n",
       "      <td>Spinal Cord Injury</td>\n",
       "      <td>2</td>\n",
       "    </tr>\n",
       "    <tr>\n",
       "      <th>16</th>\n",
       "      <td>Stroke</td>\n",
       "      <td>68</td>\n",
       "    </tr>\n",
       "  </tbody>\n",
       "</table>\n",
       "</div>"
      ],
      "text/plain": [
       "      PrimaryDiagnosis  LOS\n",
       "0                  AMI   48\n",
       "1                 Afib   11\n",
       "2           Broken Leg    9\n",
       "3             Diabetes   64\n",
       "4                Fever   19\n",
       "5                  Flu   80\n",
       "6        Heart Failure   78\n",
       "7         Hip Fracture   23\n",
       "8         Hypertension   50\n",
       "9       Kidney Failure   20\n",
       "10    Knee Replacement   23\n",
       "11          Laceration   29\n",
       "12            Migraine   12\n",
       "13                Pain    7\n",
       "14           Pneumonia  177\n",
       "15  Spinal Cord Injury    2\n",
       "16              Stroke   68"
      ]
     },
     "execution_count": 233,
     "metadata": {},
     "output_type": "execute_result"
    }
   ],
   "source": [
    "primary_dia_LOS=dfnew_inner.groupby(['PrimaryDiagnosis'])['LOS'].count().reset_index()\n",
    "primary_dia_LOS"
   ]
  },
  {
   "cell_type": "code",
   "execution_count": 234,
   "id": "6bca9b54",
   "metadata": {
    "scrolled": true
   },
   "outputs": [
    {
     "data": {
      "image/png": "[encoded data removed]",
      "text/plain": [
       "<Figure size 1080x576 with 1 Axes>"
      ]
     },
     "metadata": {},
     "output_type": "display_data"
    }
   ],
   "source": [
    "import matplotlib.pyplot as plt\n",
    "import squarify\n",
    "\n",
    "plt.figure(figsize=(15,8))\n",
    "sb.barplot(x = 'PrimaryDiagnosis',y = 'LOS',data =primary_dia_LOS)\n",
    "plt.xticks(rotation=75)\n",
    "plt.show()"
   ]
  },
  {
   "cell_type": "markdown",
   "id": "08f5a2be",
   "metadata": {},
   "source": [
    "### 32.Length of Stay by disposition"
   ]
  },
  {
   "cell_type": "code",
   "execution_count": 235,
   "id": "9d572fbf",
   "metadata": {},
   "outputs": [
    {
     "data": {
      "text/html": [
       "<div>\n",
       "<style scoped>\n",
       "    .dataframe tbody tr th:only-of-type {\n",
       "        vertical-align: middle;\n",
       "    }\n",
       "\n",
       "    .dataframe tbody tr th {\n",
       "        vertical-align: top;\n",
       "    }\n",
       "\n",
       "    .dataframe thead th {\n",
       "        text-align: right;\n",
       "    }\n",
       "</style>\n",
       "<table border=\"1\" class=\"dataframe\">\n",
       "  <thead>\n",
       "    <tr style=\"text-align: right;\">\n",
       "      <th></th>\n",
       "      <th>DischargeDisposition</th>\n",
       "      <th>LOS</th>\n",
       "    </tr>\n",
       "  </thead>\n",
       "  <tbody>\n",
       "    <tr>\n",
       "      <th>0</th>\n",
       "      <td>Expired</td>\n",
       "      <td>104</td>\n",
       "    </tr>\n",
       "    <tr>\n",
       "      <th>1</th>\n",
       "      <td>Home</td>\n",
       "      <td>577</td>\n",
       "    </tr>\n",
       "    <tr>\n",
       "      <th>2</th>\n",
       "      <td>Transfer</td>\n",
       "      <td>39</td>\n",
       "    </tr>\n",
       "  </tbody>\n",
       "</table>\n",
       "</div>"
      ],
      "text/plain": [
       "  DischargeDisposition  LOS\n",
       "0              Expired  104\n",
       "1                 Home  577\n",
       "2             Transfer   39"
      ]
     },
     "execution_count": 235,
     "metadata": {},
     "output_type": "execute_result"
    }
   ],
   "source": [
    "LOS_by_disp=dfnew_inner.groupby(['DischargeDisposition'])['LOS'].count().reset_index()\n",
    "LOS_by_disp.head()"
   ]
  },
  {
   "cell_type": "code",
   "execution_count": 241,
   "id": "14706e22",
   "metadata": {
    "scrolled": true
   },
   "outputs": [
    {
     "data": {
      "image/png": "[encoded data removed]",
      "text/plain": [
       "<Figure size 360x360 with 1 Axes>"
      ]
     },
     "metadata": {},
     "output_type": "display_data"
    }
   ],
   "source": [
    "colors = sb.color_palette('bright')[0:5]\n",
    "plt.figure(figsize=(5,5))\n",
    "plt.pie(LOS_by_disp[\"LOS\"], labels = LOS_by_disp[\"LOS\"], colors = colors, autopct='%.0f%%')\n",
    "plt.legend(LOS_by_disp[\"DischargeDisposition\"], loc=\"best\")\n",
    "plt.show()"
   ]
  },
  {
   "cell_type": "code",
   "execution_count": 242,
   "id": "3be96fda",
   "metadata": {
    "scrolled": true
   },
   "outputs": [
    {
     "data": {
      "text/plain": [
       "<AxesSubplot:xlabel='ExpectedLOS', ylabel='PrimaryDiagnosis'>"
      ]
     },
     "execution_count": 242,
     "metadata": {},
     "output_type": "execute_result"
    },
    {
     "data": {
      "image/png": "[encoded data removed]",
      "text/plain": [
       "<Figure size 432x288 with 1 Axes>"
      ]
     },
     "metadata": {},
     "output_type": "display_data"
    }
   ],
   "source": [
    "sb.boxplot(x=dfnew_inner.ExpectedLOS,y=dfnew_inner.PrimaryDiagnosis)"
   ]
  },
  {
   "cell_type": "markdown",
   "id": "c51b55bd",
   "metadata": {},
   "source": [
    "### Analysis of ReAdmissionRegistry sheets\n",
    "\n",
    "1.Numbers of rows & columns in the data sheet ReAdmissionRegistry.(720, 12)\n",
    "\n",
    "2. Except BloodPressureSystolic, BloodPressureDiastolic and pluse columns ,there are  no  null values in other columns.\n",
    "\n",
    "3.Do not find any duplicates.\n",
    "\n",
    "4. Viewing the data based on discharge disposition & Primary Diagnosis.\n",
    "\n",
    "5. pneumonia patients are highest count = 177.\n",
    "\n",
    "6. Average Length of stay= 9.53.\n",
    "\n",
    "7. 80% of patients discharge disposition is home. 14 % of patients are expired.\n"
   ]
  },
  {
   "cell_type": "markdown",
   "id": "8aee11ca",
   "metadata": {},
   "source": [
    "# Analysis on EDUnique sheet"
   ]
  },
  {
   "cell_type": "markdown",
   "id": "4684ef7a",
   "metadata": {},
   "source": [
    "### 33. load EDUnique dataset\n"
   ]
  },
  {
   "cell_type": "code",
   "execution_count": 4,
   "id": "c874e0b6",
   "metadata": {},
   "outputs": [
    {
     "data": {
      "text/html": [
       "<div>\n",
       "<style scoped>\n",
       "    .dataframe tbody tr th:only-of-type {\n",
       "        vertical-align: middle;\n",
       "    }\n",
       "\n",
       "    .dataframe tbody tr th {\n",
       "        vertical-align: top;\n",
       "    }\n",
       "\n",
       "    .dataframe thead th {\n",
       "        text-align: right;\n",
       "    }\n",
       "</style>\n",
       "<table border=\"1\" class=\"dataframe\">\n",
       "  <thead>\n",
       "    <tr style=\"text-align: right;\">\n",
       "      <th></th>\n",
       "      <th>EDVisitID</th>\n",
       "      <th>PatientID</th>\n",
       "      <th>VisitDate</th>\n",
       "      <th>EDDischargeTime</th>\n",
       "      <th>Acuity</th>\n",
       "      <th>ReasonForVisit</th>\n",
       "      <th>EDDisposition</th>\n",
       "    </tr>\n",
       "  </thead>\n",
       "  <tbody>\n",
       "    <tr>\n",
       "      <th>0</th>\n",
       "      <td>1</td>\n",
       "      <td>1</td>\n",
       "      <td>2020-01-01 00:00:00.000</td>\n",
       "      <td>2020-01-01 11:20:22.924</td>\n",
       "      <td>1</td>\n",
       "      <td>Stomach Ache</td>\n",
       "      <td>Admitted</td>\n",
       "    </tr>\n",
       "    <tr>\n",
       "      <th>1</th>\n",
       "      <td>12</td>\n",
       "      <td>12</td>\n",
       "      <td>2020-01-01 02:45:40.302</td>\n",
       "      <td>2020-01-02 02:00:00.517</td>\n",
       "      <td>2</td>\n",
       "      <td>Migraine</td>\n",
       "      <td>Admitted</td>\n",
       "    </tr>\n",
       "    <tr>\n",
       "      <th>2</th>\n",
       "      <td>13</td>\n",
       "      <td>13</td>\n",
       "      <td>2020-01-01 03:09:24.701</td>\n",
       "      <td>2020-01-01 05:00:20.852</td>\n",
       "      <td>3</td>\n",
       "      <td>Stomach Ache</td>\n",
       "      <td>Admitted</td>\n",
       "    </tr>\n",
       "    <tr>\n",
       "      <th>3</th>\n",
       "      <td>14</td>\n",
       "      <td>14</td>\n",
       "      <td>2020-01-01 03:12:19.349</td>\n",
       "      <td>2020-01-01 04:32:29.142</td>\n",
       "      <td>3</td>\n",
       "      <td>Migraine</td>\n",
       "      <td>Admitted</td>\n",
       "    </tr>\n",
       "    <tr>\n",
       "      <th>4</th>\n",
       "      <td>15</td>\n",
       "      <td>15</td>\n",
       "      <td>2020-01-01 03:46:32.698</td>\n",
       "      <td>2020-01-01 06:24:52.741</td>\n",
       "      <td>3</td>\n",
       "      <td>Chest Pain</td>\n",
       "      <td>Admitted</td>\n",
       "    </tr>\n",
       "    <tr>\n",
       "      <th>...</th>\n",
       "      <td>...</td>\n",
       "      <td>...</td>\n",
       "      <td>...</td>\n",
       "      <td>...</td>\n",
       "      <td>...</td>\n",
       "      <td>...</td>\n",
       "      <td>...</td>\n",
       "    </tr>\n",
       "    <tr>\n",
       "      <th>940</th>\n",
       "      <td>1183</td>\n",
       "      <td>929</td>\n",
       "      <td>2020-01-15 10:38:42.570</td>\n",
       "      <td>2020-01-16 02:31:52.023</td>\n",
       "      <td>4</td>\n",
       "      <td>Chest Pain</td>\n",
       "      <td>discharged</td>\n",
       "    </tr>\n",
       "    <tr>\n",
       "      <th>941</th>\n",
       "      <td>1186</td>\n",
       "      <td>932</td>\n",
       "      <td>2020-01-15 11:52:37.540</td>\n",
       "      <td>2020-01-16 10:19:41.570</td>\n",
       "      <td>1</td>\n",
       "      <td>Pneumonia</td>\n",
       "      <td>discharged</td>\n",
       "    </tr>\n",
       "    <tr>\n",
       "      <th>942</th>\n",
       "      <td>1187</td>\n",
       "      <td>933</td>\n",
       "      <td>2020-01-15 12:11:11.678</td>\n",
       "      <td>2020-01-15 16:41:15.223</td>\n",
       "      <td>1</td>\n",
       "      <td>Pneumonia</td>\n",
       "      <td>discharged</td>\n",
       "    </tr>\n",
       "    <tr>\n",
       "      <th>943</th>\n",
       "      <td>1188</td>\n",
       "      <td>934</td>\n",
       "      <td>2020-01-15 12:21:46.006</td>\n",
       "      <td>2020-01-15 18:32:21.060</td>\n",
       "      <td>1</td>\n",
       "      <td>Pneumonia</td>\n",
       "      <td>discharged</td>\n",
       "    </tr>\n",
       "    <tr>\n",
       "      <th>944</th>\n",
       "      <td>1189</td>\n",
       "      <td>935</td>\n",
       "      <td>2020-01-15 12:51:14.875</td>\n",
       "      <td>2020-01-15 23:40:41.456</td>\n",
       "      <td>1</td>\n",
       "      <td>Pneumonia</td>\n",
       "      <td>discharged</td>\n",
       "    </tr>\n",
       "  </tbody>\n",
       "</table>\n",
       "<p>945 rows × 7 columns</p>\n",
       "</div>"
      ],
      "text/plain": [
       "     EDVisitID  PatientID               VisitDate         EDDischargeTime  \\\n",
       "0            1          1 2020-01-01 00:00:00.000 2020-01-01 11:20:22.924   \n",
       "1           12         12 2020-01-01 02:45:40.302 2020-01-02 02:00:00.517   \n",
       "2           13         13 2020-01-01 03:09:24.701 2020-01-01 05:00:20.852   \n",
       "3           14         14 2020-01-01 03:12:19.349 2020-01-01 04:32:29.142   \n",
       "4           15         15 2020-01-01 03:46:32.698 2020-01-01 06:24:52.741   \n",
       "..         ...        ...                     ...                     ...   \n",
       "940       1183        929 2020-01-15 10:38:42.570 2020-01-16 02:31:52.023   \n",
       "941       1186        932 2020-01-15 11:52:37.540 2020-01-16 10:19:41.570   \n",
       "942       1187        933 2020-01-15 12:11:11.678 2020-01-15 16:41:15.223   \n",
       "943       1188        934 2020-01-15 12:21:46.006 2020-01-15 18:32:21.060   \n",
       "944       1189        935 2020-01-15 12:51:14.875 2020-01-15 23:40:41.456   \n",
       "\n",
       "     Acuity ReasonForVisit EDDisposition  \n",
       "0         1   Stomach Ache      Admitted  \n",
       "1         2       Migraine      Admitted  \n",
       "2         3   Stomach Ache      Admitted  \n",
       "3         3       Migraine      Admitted  \n",
       "4         3     Chest Pain      Admitted  \n",
       "..      ...            ...           ...  \n",
       "940       4     Chest Pain    discharged  \n",
       "941       1      Pneumonia    discharged  \n",
       "942       1      Pneumonia    discharged  \n",
       "943       1      Pneumonia    discharged  \n",
       "944       1      Pneumonia    discharged  \n",
       "\n",
       "[945 rows x 7 columns]"
      ]
     },
     "execution_count": 4,
     "metadata": {},
     "output_type": "execute_result"
    }
   ],
   "source": [
    "EDUnique    = pd.read_excel('EDUnique.xlsx')\n",
    "EDUnique"
   ]
  },
  {
   "cell_type": "markdown",
   "id": "90808880",
   "metadata": {},
   "source": [
    "### 34. checking data type of columns"
   ]
  },
  {
   "cell_type": "code",
   "execution_count": 5,
   "id": "e1a518d4",
   "metadata": {},
   "outputs": [
    {
     "name": "stdout",
     "output_type": "stream",
     "text": [
      "<class 'pandas.core.frame.DataFrame'>\n",
      "RangeIndex: 945 entries, 0 to 944\n",
      "Data columns (total 7 columns):\n",
      " #   Column           Non-Null Count  Dtype         \n",
      "---  ------           --------------  -----         \n",
      " 0   EDVisitID        945 non-null    int64         \n",
      " 1   PatientID        945 non-null    int64         \n",
      " 2   VisitDate        945 non-null    datetime64[ns]\n",
      " 3   EDDischargeTime  945 non-null    datetime64[ns]\n",
      " 4   Acuity           945 non-null    int64         \n",
      " 5   ReasonForVisit   945 non-null    object        \n",
      " 6   EDDisposition    945 non-null    object        \n",
      "dtypes: datetime64[ns](2), int64(3), object(2)\n",
      "memory usage: 51.8+ KB\n"
     ]
    }
   ],
   "source": [
    " EDUnique.info()  "
   ]
  },
  {
   "cell_type": "markdown",
   "id": "1247abf7",
   "metadata": {},
   "source": [
    "### 35. Analyzing various metrics\n"
   ]
  },
  {
   "cell_type": "code",
   "execution_count": 6,
   "id": "71abf29f",
   "metadata": {},
   "outputs": [
    {
     "data": {
      "text/html": [
       "<div>\n",
       "<style scoped>\n",
       "    .dataframe tbody tr th:only-of-type {\n",
       "        vertical-align: middle;\n",
       "    }\n",
       "\n",
       "    .dataframe tbody tr th {\n",
       "        vertical-align: top;\n",
       "    }\n",
       "\n",
       "    .dataframe thead th {\n",
       "        text-align: right;\n",
       "    }\n",
       "</style>\n",
       "<table border=\"1\" class=\"dataframe\">\n",
       "  <thead>\n",
       "    <tr style=\"text-align: right;\">\n",
       "      <th></th>\n",
       "      <th>EDVisitID</th>\n",
       "      <th>PatientID</th>\n",
       "      <th>Acuity</th>\n",
       "    </tr>\n",
       "  </thead>\n",
       "  <tbody>\n",
       "    <tr>\n",
       "      <th>count</th>\n",
       "      <td>945.000000</td>\n",
       "      <td>945.000000</td>\n",
       "      <td>945.000000</td>\n",
       "    </tr>\n",
       "    <tr>\n",
       "      <th>mean</th>\n",
       "      <td>669.352381</td>\n",
       "      <td>473.000000</td>\n",
       "      <td>2.464550</td>\n",
       "    </tr>\n",
       "    <tr>\n",
       "      <th>std</th>\n",
       "      <td>346.115177</td>\n",
       "      <td>272.942302</td>\n",
       "      <td>1.608723</td>\n",
       "    </tr>\n",
       "    <tr>\n",
       "      <th>min</th>\n",
       "      <td>1.000000</td>\n",
       "      <td>1.000000</td>\n",
       "      <td>1.000000</td>\n",
       "    </tr>\n",
       "    <tr>\n",
       "      <th>25%</th>\n",
       "      <td>338.000000</td>\n",
       "      <td>237.000000</td>\n",
       "      <td>1.000000</td>\n",
       "    </tr>\n",
       "    <tr>\n",
       "      <th>50%</th>\n",
       "      <td>727.000000</td>\n",
       "      <td>473.000000</td>\n",
       "      <td>2.000000</td>\n",
       "    </tr>\n",
       "    <tr>\n",
       "      <th>75%</th>\n",
       "      <td>963.000000</td>\n",
       "      <td>709.000000</td>\n",
       "      <td>4.000000</td>\n",
       "    </tr>\n",
       "    <tr>\n",
       "      <th>max</th>\n",
       "      <td>1199.000000</td>\n",
       "      <td>945.000000</td>\n",
       "      <td>5.000000</td>\n",
       "    </tr>\n",
       "  </tbody>\n",
       "</table>\n",
       "</div>"
      ],
      "text/plain": [
       "         EDVisitID   PatientID      Acuity\n",
       "count   945.000000  945.000000  945.000000\n",
       "mean    669.352381  473.000000    2.464550\n",
       "std     346.115177  272.942302    1.608723\n",
       "min       1.000000    1.000000    1.000000\n",
       "25%     338.000000  237.000000    1.000000\n",
       "50%     727.000000  473.000000    2.000000\n",
       "75%     963.000000  709.000000    4.000000\n",
       "max    1199.000000  945.000000    5.000000"
      ]
     },
     "execution_count": 6,
     "metadata": {},
     "output_type": "execute_result"
    }
   ],
   "source": [
    "EDUnique.describe()"
   ]
  },
  {
   "cell_type": "markdown",
   "id": "18026c08",
   "metadata": {},
   "source": [
    "### 36. fig out object datatype.\n"
   ]
  },
  {
   "cell_type": "code",
   "execution_count": 7,
   "id": "d9a492ff",
   "metadata": {},
   "outputs": [
    {
     "data": {
      "text/html": [
       "<div>\n",
       "<style scoped>\n",
       "    .dataframe tbody tr th:only-of-type {\n",
       "        vertical-align: middle;\n",
       "    }\n",
       "\n",
       "    .dataframe tbody tr th {\n",
       "        vertical-align: top;\n",
       "    }\n",
       "\n",
       "    .dataframe thead th {\n",
       "        text-align: right;\n",
       "    }\n",
       "</style>\n",
       "<table border=\"1\" class=\"dataframe\">\n",
       "  <thead>\n",
       "    <tr style=\"text-align: right;\">\n",
       "      <th></th>\n",
       "      <th>ReasonForVisit</th>\n",
       "      <th>EDDisposition</th>\n",
       "    </tr>\n",
       "  </thead>\n",
       "  <tbody>\n",
       "    <tr>\n",
       "      <th>count</th>\n",
       "      <td>945</td>\n",
       "      <td>945</td>\n",
       "    </tr>\n",
       "    <tr>\n",
       "      <th>unique</th>\n",
       "      <td>12</td>\n",
       "      <td>4</td>\n",
       "    </tr>\n",
       "    <tr>\n",
       "      <th>top</th>\n",
       "      <td>Fever</td>\n",
       "      <td>discharged</td>\n",
       "    </tr>\n",
       "    <tr>\n",
       "      <th>freq</th>\n",
       "      <td>172</td>\n",
       "      <td>280</td>\n",
       "    </tr>\n",
       "  </tbody>\n",
       "</table>\n",
       "</div>"
      ],
      "text/plain": [
       "       ReasonForVisit EDDisposition\n",
       "count             945           945\n",
       "unique             12             4\n",
       "top             Fever    discharged\n",
       "freq              172           280"
      ]
     },
     "execution_count": 7,
     "metadata": {},
     "output_type": "execute_result"
    }
   ],
   "source": [
    "EDUnique.describe(include=['object'])"
   ]
  },
  {
   "cell_type": "markdown",
   "id": "2fcf04a4",
   "metadata": {},
   "source": [
    "### 38.Explore EDUnique dataset"
   ]
  },
  {
   "cell_type": "markdown",
   "id": "8ce0d050",
   "metadata": {},
   "source": [
    "### Numbers of rows & columns in the data sheet EDUnique."
   ]
  },
  {
   "cell_type": "code",
   "execution_count": 8,
   "id": "fb2d4db4",
   "metadata": {},
   "outputs": [
    {
     "data": {
      "text/plain": [
       "(945, 7)"
      ]
     },
     "execution_count": 8,
     "metadata": {},
     "output_type": "execute_result"
    }
   ],
   "source": [
    "EDUnique=df['EDUnique']\n",
    "EDUnique.shape"
   ]
  },
  {
   "cell_type": "markdown",
   "id": "bc0b48b5",
   "metadata": {},
   "source": [
    "### 39.No Missing values in EDUnique dataset"
   ]
  },
  {
   "cell_type": "code",
   "execution_count": 9,
   "id": "4703d938",
   "metadata": {},
   "outputs": [
    {
     "data": {
      "text/plain": [
       "EDVisitID          0\n",
       "PatientID          0\n",
       "VisitDate          0\n",
       "EDDischargeTime    0\n",
       "Acuity             0\n",
       "ReasonForVisit     0\n",
       "EDDisposition      0\n",
       "dtype: int64"
      ]
     },
     "execution_count": 9,
     "metadata": {},
     "output_type": "execute_result"
    }
   ],
   "source": [
    "EDUnique.isnull().sum()"
   ]
  },
  {
   "cell_type": "markdown",
   "id": "6ba4322f",
   "metadata": {},
   "source": [
    "### 40. Duplicate values"
   ]
  },
  {
   "cell_type": "code",
   "execution_count": 10,
   "id": "0bde71bc",
   "metadata": {},
   "outputs": [
    {
     "data": {
      "text/plain": [
       "0"
      ]
     },
     "execution_count": 10,
     "metadata": {},
     "output_type": "execute_result"
    }
   ],
   "source": [
    "EDUnique.duplicated().sum()"
   ]
  },
  {
   "cell_type": "markdown",
   "id": "ccf2f8c3",
   "metadata": {},
   "source": [
    "### 41.Datatypes"
   ]
  },
  {
   "cell_type": "code",
   "execution_count": 11,
   "id": "ffe5609d",
   "metadata": {},
   "outputs": [
    {
     "data": {
      "text/plain": [
       "EDVisitID                 float64\n",
       "PatientID                 float64\n",
       "VisitDate          datetime64[ns]\n",
       "EDDischargeTime    datetime64[ns]\n",
       "Acuity                    float64\n",
       "ReasonForVisit             object\n",
       "EDDisposition              object\n",
       "dtype: object"
      ]
     },
     "execution_count": 11,
     "metadata": {},
     "output_type": "execute_result"
    }
   ],
   "source": [
    "EDUnique.dtypes"
   ]
  },
  {
   "cell_type": "code",
   "execution_count": 12,
   "id": "72e09988",
   "metadata": {},
   "outputs": [
    {
     "data": {
      "text/plain": [
       "dtype('O')"
      ]
     },
     "execution_count": 12,
     "metadata": {},
     "output_type": "execute_result"
    }
   ],
   "source": [
    "EDUnique['EDDisposition'].dtypes"
   ]
  },
  {
   "cell_type": "markdown",
   "id": "a0cb35a7",
   "metadata": {},
   "source": [
    "### 42. Filter the data"
   ]
  },
  {
   "cell_type": "code",
   "execution_count": 13,
   "id": "0ef5d2d1",
   "metadata": {},
   "outputs": [
    {
     "data": {
      "text/html": [
       "<div>\n",
       "<style scoped>\n",
       "    .dataframe tbody tr th:only-of-type {\n",
       "        vertical-align: middle;\n",
       "    }\n",
       "\n",
       "    .dataframe tbody tr th {\n",
       "        vertical-align: top;\n",
       "    }\n",
       "\n",
       "    .dataframe thead th {\n",
       "        text-align: right;\n",
       "    }\n",
       "</style>\n",
       "<table border=\"1\" class=\"dataframe\">\n",
       "  <thead>\n",
       "    <tr style=\"text-align: right;\">\n",
       "      <th></th>\n",
       "      <th>EDVisitID</th>\n",
       "      <th>PatientID</th>\n",
       "      <th>VisitDate</th>\n",
       "      <th>EDDischargeTime</th>\n",
       "      <th>Acuity</th>\n",
       "      <th>ReasonForVisit</th>\n",
       "      <th>EDDisposition</th>\n",
       "    </tr>\n",
       "  </thead>\n",
       "  <tbody>\n",
       "    <tr>\n",
       "      <th>7</th>\n",
       "      <td>18.0</td>\n",
       "      <td>18.0</td>\n",
       "      <td>2020-01-01 04:39:40.091</td>\n",
       "      <td>2020-01-02 03:25:07.379</td>\n",
       "      <td>5.0</td>\n",
       "      <td>Car Accident</td>\n",
       "      <td>Admitted</td>\n",
       "    </tr>\n",
       "    <tr>\n",
       "      <th>8</th>\n",
       "      <td>19.0</td>\n",
       "      <td>19.0</td>\n",
       "      <td>2020-01-01 04:56:11.608</td>\n",
       "      <td>2020-01-02 04:31:45.968</td>\n",
       "      <td>5.0</td>\n",
       "      <td>Chest Pain</td>\n",
       "      <td>Admitted</td>\n",
       "    </tr>\n",
       "    <tr>\n",
       "      <th>9</th>\n",
       "      <td>26.0</td>\n",
       "      <td>26.0</td>\n",
       "      <td>2020-01-01 06:14:46.240</td>\n",
       "      <td>2020-01-01 15:34:00.868</td>\n",
       "      <td>5.0</td>\n",
       "      <td>Chest Pain</td>\n",
       "      <td>Admitted</td>\n",
       "    </tr>\n",
       "    <tr>\n",
       "      <th>10</th>\n",
       "      <td>27.0</td>\n",
       "      <td>27.0</td>\n",
       "      <td>2020-01-01 06:27:42.483</td>\n",
       "      <td>2020-01-01 18:30:35.922</td>\n",
       "      <td>5.0</td>\n",
       "      <td>Chest Pain</td>\n",
       "      <td>Admitted</td>\n",
       "    </tr>\n",
       "    <tr>\n",
       "      <th>17</th>\n",
       "      <td>45.0</td>\n",
       "      <td>45.0</td>\n",
       "      <td>2020-01-01 11:53:16.342</td>\n",
       "      <td>2020-01-01 21:20:18.854</td>\n",
       "      <td>5.0</td>\n",
       "      <td>Shortness of Breath</td>\n",
       "      <td>admitted</td>\n",
       "    </tr>\n",
       "  </tbody>\n",
       "</table>\n",
       "</div>"
      ],
      "text/plain": [
       "    EDVisitID  PatientID               VisitDate         EDDischargeTime  \\\n",
       "7        18.0       18.0 2020-01-01 04:39:40.091 2020-01-02 03:25:07.379   \n",
       "8        19.0       19.0 2020-01-01 04:56:11.608 2020-01-02 04:31:45.968   \n",
       "9        26.0       26.0 2020-01-01 06:14:46.240 2020-01-01 15:34:00.868   \n",
       "10       27.0       27.0 2020-01-01 06:27:42.483 2020-01-01 18:30:35.922   \n",
       "17       45.0       45.0 2020-01-01 11:53:16.342 2020-01-01 21:20:18.854   \n",
       "\n",
       "    Acuity       ReasonForVisit EDDisposition  \n",
       "7      5.0         Car Accident      Admitted  \n",
       "8      5.0           Chest Pain      Admitted  \n",
       "9      5.0           Chest Pain      Admitted  \n",
       "10     5.0           Chest Pain      Admitted  \n",
       "17     5.0  Shortness of Breath      admitted  "
      ]
     },
     "execution_count": 13,
     "metadata": {},
     "output_type": "execute_result"
    }
   ],
   "source": [
    "EDUnique[EDUnique['Acuity']==5].head()"
   ]
  },
  {
   "cell_type": "markdown",
   "id": "9b09bba5",
   "metadata": {},
   "source": [
    "### 43. Box plot using a single line of code Box plot using a single line of code\n"
   ]
  },
  {
   "cell_type": "code",
   "execution_count": 15,
   "id": "3a7f09e2",
   "metadata": {},
   "outputs": [
    {
     "data": {
      "image/png": "[encoded data removed]",
      "text/plain": [
       "<Figure size 432x288 with 1 Axes>"
      ]
     },
     "metadata": {
      "needs_background": "light"
     },
     "output_type": "display_data"
    }
   ],
   "source": [
    "\n",
    "EDUnique[['EDVisitID']].boxplot()\n",
    "plt.show()"
   ]
  },
  {
   "cell_type": "markdown",
   "id": "c0d1cb3c",
   "metadata": {},
   "source": [
    "### 44.correlation plot-EDA & plot"
   ]
  },
  {
   "cell_type": "code",
   "execution_count": 16,
   "id": "f38d6950",
   "metadata": {},
   "outputs": [
    {
     "data": {
      "text/html": [
       "<div>\n",
       "<style scoped>\n",
       "    .dataframe tbody tr th:only-of-type {\n",
       "        vertical-align: middle;\n",
       "    }\n",
       "\n",
       "    .dataframe tbody tr th {\n",
       "        vertical-align: top;\n",
       "    }\n",
       "\n",
       "    .dataframe thead th {\n",
       "        text-align: right;\n",
       "    }\n",
       "</style>\n",
       "<table border=\"1\" class=\"dataframe\">\n",
       "  <thead>\n",
       "    <tr style=\"text-align: right;\">\n",
       "      <th></th>\n",
       "      <th>EDVisitID</th>\n",
       "      <th>PatientID</th>\n",
       "      <th>Acuity</th>\n",
       "    </tr>\n",
       "  </thead>\n",
       "  <tbody>\n",
       "    <tr>\n",
       "      <th>EDVisitID</th>\n",
       "      <td>1.000000</td>\n",
       "      <td>0.988045</td>\n",
       "      <td>-0.085414</td>\n",
       "    </tr>\n",
       "    <tr>\n",
       "      <th>PatientID</th>\n",
       "      <td>0.988045</td>\n",
       "      <td>1.000000</td>\n",
       "      <td>-0.087616</td>\n",
       "    </tr>\n",
       "    <tr>\n",
       "      <th>Acuity</th>\n",
       "      <td>-0.085414</td>\n",
       "      <td>-0.087616</td>\n",
       "      <td>1.000000</td>\n",
       "    </tr>\n",
       "  </tbody>\n",
       "</table>\n",
       "</div>"
      ],
      "text/plain": [
       "           EDVisitID  PatientID    Acuity\n",
       "EDVisitID   1.000000   0.988045 -0.085414\n",
       "PatientID   0.988045   1.000000 -0.087616\n",
       "Acuity     -0.085414  -0.087616  1.000000"
      ]
     },
     "execution_count": 16,
     "metadata": {},
     "output_type": "execute_result"
    }
   ],
   "source": [
    "EDUnique.corr()"
   ]
  },
  {
   "cell_type": "code",
   "execution_count": 17,
   "id": "7db0a189",
   "metadata": {
    "scrolled": true
   },
   "outputs": [
    {
     "data": {
      "image/png": "[encoded data removed]",
      "text/plain": [
       "<Figure size 432x288 with 2 Axes>"
      ]
     },
     "metadata": {
      "needs_background": "light"
     },
     "output_type": "display_data"
    }
   ],
   "source": [
    "sb.heatmap(EDUnique.corr())\n",
    "plt.show()"
   ]
  },
  {
   "cell_type": "code",
   "execution_count": 47,
   "id": "42a206a4",
   "metadata": {},
   "outputs": [
    {
     "data": {
      "image/png": "[encoded data removed]",
      "text/plain": [
       "<Figure size 432x288 with 1 Axes>"
      ]
     },
     "metadata": {
      "needs_background": "light"
     },
     "output_type": "display_data"
    }
   ],
   "source": [
    "EDUnique.plot()\n",
    "plt.show()"
   ]
  },
  {
   "cell_type": "markdown",
   "id": "dd73c442",
   "metadata": {},
   "source": [
    "### 45. Unique values are there in each column.\n"
   ]
  },
  {
   "cell_type": "code",
   "execution_count": 18,
   "id": "e2dbe743",
   "metadata": {},
   "outputs": [
    {
     "data": {
      "text/plain": [
       "EDVisitID          945\n",
       "PatientID          945\n",
       "VisitDate          945\n",
       "EDDischargeTime    945\n",
       "Acuity               5\n",
       "ReasonForVisit      12\n",
       "EDDisposition        4\n",
       "dtype: int64"
      ]
     },
     "execution_count": 18,
     "metadata": {},
     "output_type": "execute_result"
    }
   ],
   "source": [
    "EDUnique.nunique(axis=0)"
   ]
  },
  {
   "cell_type": "markdown",
   "id": "6bd63fa1",
   "metadata": {},
   "source": [
    "### 46. check for 'nans' in each column\n"
   ]
  },
  {
   "cell_type": "code",
   "execution_count": 19,
   "id": "1f96baf5",
   "metadata": {},
   "outputs": [
    {
     "data": {
      "text/plain": [
       "EDVisitID          0\n",
       "PatientID          0\n",
       "VisitDate          0\n",
       "EDDischargeTime    0\n",
       "Acuity             0\n",
       "ReasonForVisit     0\n",
       "EDDisposition      0\n",
       "dtype: int64"
      ]
     },
     "execution_count": 19,
     "metadata": {},
     "output_type": "execute_result"
    }
   ],
   "source": [
    "EDUnique.isna().sum()"
   ]
  },
  {
   "cell_type": "markdown",
   "id": "d9801feb",
   "metadata": {},
   "source": [
    "### 47. Statistics for Data analysis"
   ]
  },
  {
   "cell_type": "code",
   "execution_count": 20,
   "id": "8c1c07e2",
   "metadata": {},
   "outputs": [
    {
     "data": {
      "text/plain": [
       "669.3523809523809"
      ]
     },
     "execution_count": 20,
     "metadata": {},
     "output_type": "execute_result"
    }
   ],
   "source": [
    "mean1=EDUnique['EDVisitID'].mean()\n",
    "mean1\n"
   ]
  },
  {
   "cell_type": "code",
   "execution_count": 21,
   "id": "e15c5a82",
   "metadata": {},
   "outputs": [
    {
     "data": {
      "text/plain": [
       "473.0"
      ]
     },
     "execution_count": 21,
     "metadata": {},
     "output_type": "execute_result"
    }
   ],
   "source": [
    "median1=EDUnique['PatientID'].median()\n",
    "median1\n"
   ]
  },
  {
   "cell_type": "code",
   "execution_count": 22,
   "id": "6e296eec",
   "metadata": {},
   "outputs": [
    {
     "data": {
      "text/plain": [
       "0    1.0\n",
       "Name: Acuity, dtype: float64"
      ]
     },
     "execution_count": 22,
     "metadata": {},
     "output_type": "execute_result"
    }
   ],
   "source": [
    "mode1=EDUnique['Acuity'].mode()\n",
    "mode1\n"
   ]
  },
  {
   "cell_type": "code",
   "execution_count": 23,
   "id": "78d329b0",
   "metadata": {},
   "outputs": [
    {
     "data": {
      "text/plain": [
       "1199.0"
      ]
     },
     "execution_count": 23,
     "metadata": {},
     "output_type": "execute_result"
    }
   ],
   "source": [
    "Maximum=EDUnique['EDVisitID'].max()\n",
    "Maximum\n"
   ]
  },
  {
   "cell_type": "code",
   "execution_count": 24,
   "id": "fa8546d8",
   "metadata": {},
   "outputs": [
    {
     "data": {
      "text/plain": [
       "1.0"
      ]
     },
     "execution_count": 24,
     "metadata": {},
     "output_type": "execute_result"
    }
   ],
   "source": [
    "Minimum=EDUnique['PatientID'].min()\n",
    "Minimum"
   ]
  },
  {
   "cell_type": "markdown",
   "id": "b9e13c49",
   "metadata": {},
   "source": [
    "# Analysis on Providers sheet"
   ]
  },
  {
   "cell_type": "markdown",
   "id": "ea6bb12f",
   "metadata": {},
   "source": [
    "### 48. Load Providers dataset\n"
   ]
  },
  {
   "cell_type": "code",
   "execution_count": 25,
   "id": "bef200ac",
   "metadata": {},
   "outputs": [
    {
     "data": {
      "text/html": [
       "<div>\n",
       "<style scoped>\n",
       "    .dataframe tbody tr th:only-of-type {\n",
       "        vertical-align: middle;\n",
       "    }\n",
       "\n",
       "    .dataframe tbody tr th {\n",
       "        vertical-align: top;\n",
       "    }\n",
       "\n",
       "    .dataframe thead th {\n",
       "        text-align: right;\n",
       "    }\n",
       "</style>\n",
       "<table border=\"1\" class=\"dataframe\">\n",
       "  <thead>\n",
       "    <tr style=\"text-align: right;\">\n",
       "      <th></th>\n",
       "      <th>ProviderID</th>\n",
       "      <th>ProviderName</th>\n",
       "      <th>ProviderSpecialty</th>\n",
       "      <th>ProviderDateOnStaff</th>\n",
       "    </tr>\n",
       "  </thead>\n",
       "  <tbody>\n",
       "    <tr>\n",
       "      <th>0</th>\n",
       "      <td>1</td>\n",
       "      <td>Sally Sue</td>\n",
       "      <td>Pediatrics</td>\n",
       "      <td>1993-01-01 00:00:00.000</td>\n",
       "    </tr>\n",
       "    <tr>\n",
       "      <th>1</th>\n",
       "      <td>2</td>\n",
       "      <td>Mike Myers</td>\n",
       "      <td>Pediatrics</td>\n",
       "      <td>1993-05-02 00:00:17.695</td>\n",
       "    </tr>\n",
       "    <tr>\n",
       "      <th>2</th>\n",
       "      <td>3</td>\n",
       "      <td>Jordan Michael</td>\n",
       "      <td>Pediatrics</td>\n",
       "      <td>1993-06-24 21:31:46.687</td>\n",
       "    </tr>\n",
       "    <tr>\n",
       "      <th>3</th>\n",
       "      <td>4</td>\n",
       "      <td>Ted Texas</td>\n",
       "      <td>Pediatrics</td>\n",
       "      <td>1993-12-23 21:33:52.299</td>\n",
       "    </tr>\n",
       "    <tr>\n",
       "      <th>4</th>\n",
       "      <td>5</td>\n",
       "      <td>Ala Bama</td>\n",
       "      <td>Pediatrics</td>\n",
       "      <td>1995-01-10 02:53:47.838</td>\n",
       "    </tr>\n",
       "    <tr>\n",
       "      <th>5</th>\n",
       "      <td>6</td>\n",
       "      <td>Harry Kane</td>\n",
       "      <td>Pediatrics</td>\n",
       "      <td>1995-07-21 03:49:03.310</td>\n",
       "    </tr>\n",
       "    <tr>\n",
       "      <th>6</th>\n",
       "      <td>7</td>\n",
       "      <td>Barry Bar</td>\n",
       "      <td>Pediatrics</td>\n",
       "      <td>1995-11-21 19:30:38.759</td>\n",
       "    </tr>\n",
       "    <tr>\n",
       "      <th>7</th>\n",
       "      <td>8</td>\n",
       "      <td>Ted Green</td>\n",
       "      <td>Pediatrics</td>\n",
       "      <td>1996-05-30 06:14:52.539</td>\n",
       "    </tr>\n",
       "    <tr>\n",
       "      <th>8</th>\n",
       "      <td>9</td>\n",
       "      <td>Ted Black</td>\n",
       "      <td>Pediatrics</td>\n",
       "      <td>1997-02-20 08:01:10.211</td>\n",
       "    </tr>\n",
       "    <tr>\n",
       "      <th>9</th>\n",
       "      <td>10</td>\n",
       "      <td>Fred Man</td>\n",
       "      <td>Surgery</td>\n",
       "      <td>1998-03-17 01:47:18.794</td>\n",
       "    </tr>\n",
       "    <tr>\n",
       "      <th>10</th>\n",
       "      <td>11</td>\n",
       "      <td>Kim Kimberly</td>\n",
       "      <td>Surgery</td>\n",
       "      <td>1998-05-10 14:47:29.468</td>\n",
       "    </tr>\n",
       "    <tr>\n",
       "      <th>11</th>\n",
       "      <td>12</td>\n",
       "      <td>Sarah Ab</td>\n",
       "      <td>Surgery</td>\n",
       "      <td>1998-08-18 05:22:40.762</td>\n",
       "    </tr>\n",
       "    <tr>\n",
       "      <th>12</th>\n",
       "      <td>13</td>\n",
       "      <td>Abigail Marriot</td>\n",
       "      <td>Surgery</td>\n",
       "      <td>1998-11-08 12:25:45.705</td>\n",
       "    </tr>\n",
       "    <tr>\n",
       "      <th>13</th>\n",
       "      <td>14</td>\n",
       "      <td>Dave Yu</td>\n",
       "      <td>Surgery</td>\n",
       "      <td>1999-06-26 16:18:57.436</td>\n",
       "    </tr>\n",
       "    <tr>\n",
       "      <th>14</th>\n",
       "      <td>15</td>\n",
       "      <td>Christian Saint</td>\n",
       "      <td>Surgery</td>\n",
       "      <td>2000-08-27 00:12:40.326</td>\n",
       "    </tr>\n",
       "    <tr>\n",
       "      <th>15</th>\n",
       "      <td>16</td>\n",
       "      <td>Perry Pardon</td>\n",
       "      <td>Surgery</td>\n",
       "      <td>2001-02-13 11:49:17.862</td>\n",
       "    </tr>\n",
       "    <tr>\n",
       "      <th>16</th>\n",
       "      <td>17</td>\n",
       "      <td>Kent Kendall</td>\n",
       "      <td>Cardiology</td>\n",
       "      <td>2001-12-22 11:18:32.919</td>\n",
       "    </tr>\n",
       "    <tr>\n",
       "      <th>17</th>\n",
       "      <td>18</td>\n",
       "      <td>Ryan Kevin</td>\n",
       "      <td>Cardiology</td>\n",
       "      <td>2003-01-14 21:16:34.778</td>\n",
       "    </tr>\n",
       "    <tr>\n",
       "      <th>18</th>\n",
       "      <td>19</td>\n",
       "      <td>Tyler Conner</td>\n",
       "      <td>Cardiology</td>\n",
       "      <td>2003-07-09 02:41:40.410</td>\n",
       "    </tr>\n",
       "    <tr>\n",
       "      <th>19</th>\n",
       "      <td>20</td>\n",
       "      <td>Bailey Barret</td>\n",
       "      <td>Cardiology</td>\n",
       "      <td>2003-08-20 16:05:50.179</td>\n",
       "    </tr>\n",
       "    <tr>\n",
       "      <th>20</th>\n",
       "      <td>21</td>\n",
       "      <td>Megan Bonco</td>\n",
       "      <td>Cardiology</td>\n",
       "      <td>2004-02-17 21:22:30.546</td>\n",
       "    </tr>\n",
       "    <tr>\n",
       "      <th>21</th>\n",
       "      <td>22</td>\n",
       "      <td>Joesph Walter</td>\n",
       "      <td>Cardiology</td>\n",
       "      <td>2005-02-04 11:40:44.121</td>\n",
       "    </tr>\n",
       "    <tr>\n",
       "      <th>22</th>\n",
       "      <td>23</td>\n",
       "      <td>Walter King</td>\n",
       "      <td>Cardiology</td>\n",
       "      <td>2006-03-12 22:11:58.070</td>\n",
       "    </tr>\n",
       "    <tr>\n",
       "      <th>23</th>\n",
       "      <td>24</td>\n",
       "      <td>Luke Long</td>\n",
       "      <td>Cardiology</td>\n",
       "      <td>2006-04-28 00:16:36.762</td>\n",
       "    </tr>\n",
       "    <tr>\n",
       "      <th>24</th>\n",
       "      <td>25</td>\n",
       "      <td>Justin Time</td>\n",
       "      <td>PrimaryCare</td>\n",
       "      <td>2006-06-21 04:46:36.838</td>\n",
       "    </tr>\n",
       "    <tr>\n",
       "      <th>25</th>\n",
       "      <td>26</td>\n",
       "      <td>Mike Joseph</td>\n",
       "      <td>PrimaryCare</td>\n",
       "      <td>2006-12-29 16:26:41.085</td>\n",
       "    </tr>\n",
       "    <tr>\n",
       "      <th>26</th>\n",
       "      <td>27</td>\n",
       "      <td>Bridget Brenda</td>\n",
       "      <td>PrimaryCare</td>\n",
       "      <td>2007-06-30 05:53:46.143</td>\n",
       "    </tr>\n",
       "    <tr>\n",
       "      <th>27</th>\n",
       "      <td>28</td>\n",
       "      <td>Brenda Bing</td>\n",
       "      <td>PrimaryCare</td>\n",
       "      <td>2007-11-18 22:33:55.792</td>\n",
       "    </tr>\n",
       "    <tr>\n",
       "      <th>28</th>\n",
       "      <td>29</td>\n",
       "      <td>Chandler Bing</td>\n",
       "      <td>PrimaryCare</td>\n",
       "      <td>2007-12-07 23:50:10.442</td>\n",
       "    </tr>\n",
       "    <tr>\n",
       "      <th>29</th>\n",
       "      <td>30</td>\n",
       "      <td>Joesph Ross</td>\n",
       "      <td>PrimaryCare</td>\n",
       "      <td>2008-11-08 18:06:32.983</td>\n",
       "    </tr>\n",
       "    <tr>\n",
       "      <th>30</th>\n",
       "      <td>31</td>\n",
       "      <td>Dwight Scott</td>\n",
       "      <td>PrimaryCare</td>\n",
       "      <td>2009-04-18 19:15:44.587</td>\n",
       "    </tr>\n",
       "    <tr>\n",
       "      <th>31</th>\n",
       "      <td>32</td>\n",
       "      <td>Michael Halpert</td>\n",
       "      <td>PrimaryCare</td>\n",
       "      <td>2009-09-02 00:14:41.441</td>\n",
       "    </tr>\n",
       "    <tr>\n",
       "      <th>32</th>\n",
       "      <td>33</td>\n",
       "      <td>Pamela Ding</td>\n",
       "      <td>PrimaryCare</td>\n",
       "      <td>2009-11-12 03:59:49.655</td>\n",
       "    </tr>\n",
       "    <tr>\n",
       "      <th>33</th>\n",
       "      <td>34</td>\n",
       "      <td>Tony Creed</td>\n",
       "      <td>PrimaryCare</td>\n",
       "      <td>2010-04-28 14:11:26.802</td>\n",
       "    </tr>\n",
       "    <tr>\n",
       "      <th>34</th>\n",
       "      <td>35</td>\n",
       "      <td>Phyllis Stanley</td>\n",
       "      <td>PrimaryCare</td>\n",
       "      <td>2011-05-05 16:06:03.222</td>\n",
       "    </tr>\n",
       "    <tr>\n",
       "      <th>35</th>\n",
       "      <td>36</td>\n",
       "      <td>Holly Hue</td>\n",
       "      <td>PrimaryCare</td>\n",
       "      <td>2012-06-24 06:55:22.021</td>\n",
       "    </tr>\n",
       "    <tr>\n",
       "      <th>36</th>\n",
       "      <td>37</td>\n",
       "      <td>Trent Tye</td>\n",
       "      <td>PrimaryCare</td>\n",
       "      <td>2013-01-12 15:32:21.137</td>\n",
       "    </tr>\n",
       "    <tr>\n",
       "      <th>37</th>\n",
       "      <td>38</td>\n",
       "      <td>Kimberly Cone</td>\n",
       "      <td>PrimaryCare</td>\n",
       "      <td>2013-05-23 05:17:19.360</td>\n",
       "    </tr>\n",
       "    <tr>\n",
       "      <th>38</th>\n",
       "      <td>39</td>\n",
       "      <td>Harry West</td>\n",
       "      <td>PrimaryCare</td>\n",
       "      <td>2013-07-14 00:22:03.151</td>\n",
       "    </tr>\n",
       "    <tr>\n",
       "      <th>39</th>\n",
       "      <td>40</td>\n",
       "      <td>Rosie Renter</td>\n",
       "      <td>PrimaryCare</td>\n",
       "      <td>2013-09-11 12:07:55.584</td>\n",
       "    </tr>\n",
       "  </tbody>\n",
       "</table>\n",
       "</div>"
      ],
      "text/plain": [
       "    ProviderID     ProviderName ProviderSpecialty     ProviderDateOnStaff\n",
       "0            1        Sally Sue        Pediatrics 1993-01-01 00:00:00.000\n",
       "1            2       Mike Myers        Pediatrics 1993-05-02 00:00:17.695\n",
       "2            3   Jordan Michael        Pediatrics 1993-06-24 21:31:46.687\n",
       "3            4        Ted Texas        Pediatrics 1993-12-23 21:33:52.299\n",
       "4            5         Ala Bama        Pediatrics 1995-01-10 02:53:47.838\n",
       "5            6       Harry Kane        Pediatrics 1995-07-21 03:49:03.310\n",
       "6            7        Barry Bar        Pediatrics 1995-11-21 19:30:38.759\n",
       "7            8        Ted Green        Pediatrics 1996-05-30 06:14:52.539\n",
       "8            9        Ted Black        Pediatrics 1997-02-20 08:01:10.211\n",
       "9           10         Fred Man           Surgery 1998-03-17 01:47:18.794\n",
       "10          11     Kim Kimberly           Surgery 1998-05-10 14:47:29.468\n",
       "11          12         Sarah Ab           Surgery 1998-08-18 05:22:40.762\n",
       "12          13  Abigail Marriot           Surgery 1998-11-08 12:25:45.705\n",
       "13          14          Dave Yu           Surgery 1999-06-26 16:18:57.436\n",
       "14          15  Christian Saint           Surgery 2000-08-27 00:12:40.326\n",
       "15          16     Perry Pardon           Surgery 2001-02-13 11:49:17.862\n",
       "16          17     Kent Kendall        Cardiology 2001-12-22 11:18:32.919\n",
       "17          18       Ryan Kevin        Cardiology 2003-01-14 21:16:34.778\n",
       "18          19     Tyler Conner        Cardiology 2003-07-09 02:41:40.410\n",
       "19          20    Bailey Barret        Cardiology 2003-08-20 16:05:50.179\n",
       "20          21      Megan Bonco        Cardiology 2004-02-17 21:22:30.546\n",
       "21          22    Joesph Walter        Cardiology 2005-02-04 11:40:44.121\n",
       "22          23      Walter King        Cardiology 2006-03-12 22:11:58.070\n",
       "23          24        Luke Long        Cardiology 2006-04-28 00:16:36.762\n",
       "24          25      Justin Time       PrimaryCare 2006-06-21 04:46:36.838\n",
       "25          26      Mike Joseph       PrimaryCare 2006-12-29 16:26:41.085\n",
       "26          27   Bridget Brenda       PrimaryCare 2007-06-30 05:53:46.143\n",
       "27          28      Brenda Bing       PrimaryCare 2007-11-18 22:33:55.792\n",
       "28          29    Chandler Bing       PrimaryCare 2007-12-07 23:50:10.442\n",
       "29          30      Joesph Ross       PrimaryCare 2008-11-08 18:06:32.983\n",
       "30          31     Dwight Scott       PrimaryCare 2009-04-18 19:15:44.587\n",
       "31          32  Michael Halpert       PrimaryCare 2009-09-02 00:14:41.441\n",
       "32          33      Pamela Ding       PrimaryCare 2009-11-12 03:59:49.655\n",
       "33          34       Tony Creed       PrimaryCare 2010-04-28 14:11:26.802\n",
       "34          35  Phyllis Stanley       PrimaryCare 2011-05-05 16:06:03.222\n",
       "35          36        Holly Hue       PrimaryCare 2012-06-24 06:55:22.021\n",
       "36          37        Trent Tye       PrimaryCare 2013-01-12 15:32:21.137\n",
       "37          38    Kimberly Cone       PrimaryCare 2013-05-23 05:17:19.360\n",
       "38          39       Harry West       PrimaryCare 2013-07-14 00:22:03.151\n",
       "39          40     Rosie Renter       PrimaryCare 2013-09-11 12:07:55.584"
      ]
     },
     "execution_count": 25,
     "metadata": {},
     "output_type": "execute_result"
    }
   ],
   "source": [
    "Providers    = pd.read_excel('Providers.xlsx')\n",
    "Providers"
   ]
  },
  {
   "cell_type": "markdown",
   "id": "3224d1c5",
   "metadata": {},
   "source": [
    "### 49.Head() to display first five rows of the dataframe\n"
   ]
  },
  {
   "cell_type": "code",
   "execution_count": 26,
   "id": "acb9a15b",
   "metadata": {},
   "outputs": [
    {
     "data": {
      "text/html": [
       "<div>\n",
       "<style scoped>\n",
       "    .dataframe tbody tr th:only-of-type {\n",
       "        vertical-align: middle;\n",
       "    }\n",
       "\n",
       "    .dataframe tbody tr th {\n",
       "        vertical-align: top;\n",
       "    }\n",
       "\n",
       "    .dataframe thead th {\n",
       "        text-align: right;\n",
       "    }\n",
       "</style>\n",
       "<table border=\"1\" class=\"dataframe\">\n",
       "  <thead>\n",
       "    <tr style=\"text-align: right;\">\n",
       "      <th></th>\n",
       "      <th>ProviderID</th>\n",
       "      <th>ProviderName</th>\n",
       "      <th>ProviderSpecialty</th>\n",
       "      <th>ProviderDateOnStaff</th>\n",
       "    </tr>\n",
       "  </thead>\n",
       "  <tbody>\n",
       "    <tr>\n",
       "      <th>0</th>\n",
       "      <td>1</td>\n",
       "      <td>Sally Sue</td>\n",
       "      <td>Pediatrics</td>\n",
       "      <td>1993-01-01 00:00:00.000</td>\n",
       "    </tr>\n",
       "    <tr>\n",
       "      <th>1</th>\n",
       "      <td>2</td>\n",
       "      <td>Mike Myers</td>\n",
       "      <td>Pediatrics</td>\n",
       "      <td>1993-05-02 00:00:17.695</td>\n",
       "    </tr>\n",
       "    <tr>\n",
       "      <th>2</th>\n",
       "      <td>3</td>\n",
       "      <td>Jordan Michael</td>\n",
       "      <td>Pediatrics</td>\n",
       "      <td>1993-06-24 21:31:46.687</td>\n",
       "    </tr>\n",
       "    <tr>\n",
       "      <th>3</th>\n",
       "      <td>4</td>\n",
       "      <td>Ted Texas</td>\n",
       "      <td>Pediatrics</td>\n",
       "      <td>1993-12-23 21:33:52.299</td>\n",
       "    </tr>\n",
       "    <tr>\n",
       "      <th>4</th>\n",
       "      <td>5</td>\n",
       "      <td>Ala Bama</td>\n",
       "      <td>Pediatrics</td>\n",
       "      <td>1995-01-10 02:53:47.838</td>\n",
       "    </tr>\n",
       "  </tbody>\n",
       "</table>\n",
       "</div>"
      ],
      "text/plain": [
       "   ProviderID    ProviderName ProviderSpecialty     ProviderDateOnStaff\n",
       "0           1       Sally Sue        Pediatrics 1993-01-01 00:00:00.000\n",
       "1           2      Mike Myers        Pediatrics 1993-05-02 00:00:17.695\n",
       "2           3  Jordan Michael        Pediatrics 1993-06-24 21:31:46.687\n",
       "3           4       Ted Texas        Pediatrics 1993-12-23 21:33:52.299\n",
       "4           5        Ala Bama        Pediatrics 1995-01-10 02:53:47.838"
      ]
     },
     "execution_count": 26,
     "metadata": {},
     "output_type": "execute_result"
    }
   ],
   "source": [
    "Providers.head()"
   ]
  },
  {
   "cell_type": "markdown",
   "id": "59b0e346",
   "metadata": {},
   "source": [
    "### 50. Data types\n"
   ]
  },
  {
   "cell_type": "code",
   "execution_count": 27,
   "id": "c8eaefbc",
   "metadata": {},
   "outputs": [
    {
     "data": {
      "text/plain": [
       "ProviderID                      int64\n",
       "ProviderName                   object\n",
       "ProviderSpecialty              object\n",
       "ProviderDateOnStaff    datetime64[ns]\n",
       "dtype: object"
      ]
     },
     "execution_count": 27,
     "metadata": {},
     "output_type": "execute_result"
    }
   ],
   "source": [
    "Providers.dtypes\n"
   ]
  },
  {
   "cell_type": "code",
   "execution_count": 28,
   "id": "e8c6155d",
   "metadata": {},
   "outputs": [
    {
     "data": {
      "text/html": [
       "<div>\n",
       "<style scoped>\n",
       "    .dataframe tbody tr th:only-of-type {\n",
       "        vertical-align: middle;\n",
       "    }\n",
       "\n",
       "    .dataframe tbody tr th {\n",
       "        vertical-align: top;\n",
       "    }\n",
       "\n",
       "    .dataframe thead th {\n",
       "        text-align: right;\n",
       "    }\n",
       "</style>\n",
       "<table border=\"1\" class=\"dataframe\">\n",
       "  <thead>\n",
       "    <tr style=\"text-align: right;\">\n",
       "      <th></th>\n",
       "      <th>ProviderID</th>\n",
       "      <th>ProviderName</th>\n",
       "      <th>ProviderSpecialty</th>\n",
       "      <th>ProviderDateOnStaff</th>\n",
       "    </tr>\n",
       "  </thead>\n",
       "  <tbody>\n",
       "    <tr>\n",
       "      <th>35</th>\n",
       "      <td>36</td>\n",
       "      <td>Holly Hue</td>\n",
       "      <td>PrimaryCare</td>\n",
       "      <td>2012-06-24 06:55:22.021</td>\n",
       "    </tr>\n",
       "    <tr>\n",
       "      <th>36</th>\n",
       "      <td>37</td>\n",
       "      <td>Trent Tye</td>\n",
       "      <td>PrimaryCare</td>\n",
       "      <td>2013-01-12 15:32:21.137</td>\n",
       "    </tr>\n",
       "    <tr>\n",
       "      <th>37</th>\n",
       "      <td>38</td>\n",
       "      <td>Kimberly Cone</td>\n",
       "      <td>PrimaryCare</td>\n",
       "      <td>2013-05-23 05:17:19.360</td>\n",
       "    </tr>\n",
       "    <tr>\n",
       "      <th>38</th>\n",
       "      <td>39</td>\n",
       "      <td>Harry West</td>\n",
       "      <td>PrimaryCare</td>\n",
       "      <td>2013-07-14 00:22:03.151</td>\n",
       "    </tr>\n",
       "    <tr>\n",
       "      <th>39</th>\n",
       "      <td>40</td>\n",
       "      <td>Rosie Renter</td>\n",
       "      <td>PrimaryCare</td>\n",
       "      <td>2013-09-11 12:07:55.584</td>\n",
       "    </tr>\n",
       "  </tbody>\n",
       "</table>\n",
       "</div>"
      ],
      "text/plain": [
       "    ProviderID   ProviderName ProviderSpecialty     ProviderDateOnStaff\n",
       "35          36      Holly Hue       PrimaryCare 2012-06-24 06:55:22.021\n",
       "36          37      Trent Tye       PrimaryCare 2013-01-12 15:32:21.137\n",
       "37          38  Kimberly Cone       PrimaryCare 2013-05-23 05:17:19.360\n",
       "38          39     Harry West       PrimaryCare 2013-07-14 00:22:03.151\n",
       "39          40   Rosie Renter       PrimaryCare 2013-09-11 12:07:55.584"
      ]
     },
     "execution_count": 28,
     "metadata": {},
     "output_type": "execute_result"
    }
   ],
   "source": [
    "\n",
    "#Tail() load the last 5 data set\n",
    "Providers.tail()"
   ]
  },
  {
   "cell_type": "markdown",
   "id": "401231b5",
   "metadata": {},
   "source": [
    "### 51. Display the column name in dataset"
   ]
  },
  {
   "cell_type": "code",
   "execution_count": 30,
   "id": "9fabd431",
   "metadata": {},
   "outputs": [
    {
     "data": {
      "text/plain": [
       "Index(['ProviderID', 'ProviderName', 'ProviderSpecialty',\n",
       "       'ProviderDateOnStaff'],\n",
       "      dtype='object')"
      ]
     },
     "execution_count": 30,
     "metadata": {},
     "output_type": "execute_result"
    }
   ],
   "source": [
    "Providers.columns\n"
   ]
  },
  {
   "cell_type": "code",
   "execution_count": 29,
   "id": "c4496878",
   "metadata": {},
   "outputs": [
    {
     "data": {
      "text/plain": [
       "0           Sally Sue\n",
       "1          Mike Myers\n",
       "2      Jordan Michael\n",
       "3           Ted Texas\n",
       "4            Ala Bama\n",
       "5          Harry Kane\n",
       "6           Barry Bar\n",
       "7           Ted Green\n",
       "8           Ted Black\n",
       "9            Fred Man\n",
       "10       Kim Kimberly\n",
       "11           Sarah Ab\n",
       "12    Abigail Marriot\n",
       "13            Dave Yu\n",
       "14    Christian Saint\n",
       "15       Perry Pardon\n",
       "16       Kent Kendall\n",
       "17         Ryan Kevin\n",
       "18       Tyler Conner\n",
       "19      Bailey Barret\n",
       "20        Megan Bonco\n",
       "21      Joesph Walter\n",
       "22        Walter King\n",
       "23          Luke Long\n",
       "24        Justin Time\n",
       "25        Mike Joseph\n",
       "26     Bridget Brenda\n",
       "27        Brenda Bing\n",
       "28      Chandler Bing\n",
       "29        Joesph Ross\n",
       "30       Dwight Scott\n",
       "31    Michael Halpert\n",
       "32        Pamela Ding\n",
       "33         Tony Creed\n",
       "34    Phyllis Stanley\n",
       "35          Holly Hue\n",
       "36          Trent Tye\n",
       "37      Kimberly Cone\n",
       "38         Harry West\n",
       "39       Rosie Renter\n",
       "Name: ProviderName, dtype: object"
      ]
     },
     "execution_count": 29,
     "metadata": {},
     "output_type": "execute_result"
    }
   ],
   "source": [
    "# Display the data of a specific column\n",
    "Providers['ProviderName']"
   ]
  },
  {
   "cell_type": "code",
   "execution_count": 32,
   "id": "52b03bcd",
   "metadata": {},
   "outputs": [
    {
     "data": {
      "image/png": "[encoded data removed]",
      "text/plain": [
       "<Figure size 432x288 with 1 Axes>"
      ]
     },
     "metadata": {
      "needs_background": "light"
     },
     "output_type": "display_data"
    }
   ],
   "source": [
    "Providers.plot()\n",
    "plt.show()"
   ]
  },
  {
   "cell_type": "markdown",
   "id": "1c93629c",
   "metadata": {},
   "source": [
    "# Analysis on Discharges sheet"
   ]
  },
  {
   "cell_type": "markdown",
   "id": "a9af78d8",
   "metadata": {},
   "source": [
    "### 52. Load Discharges dataset"
   ]
  },
  {
   "cell_type": "code",
   "execution_count": 33,
   "id": "1e4b6d3f",
   "metadata": {},
   "outputs": [
    {
     "data": {
      "text/html": [
       "<div>\n",
       "<style scoped>\n",
       "    .dataframe tbody tr th:only-of-type {\n",
       "        vertical-align: middle;\n",
       "    }\n",
       "\n",
       "    .dataframe tbody tr th {\n",
       "        vertical-align: top;\n",
       "    }\n",
       "\n",
       "    .dataframe thead th {\n",
       "        text-align: right;\n",
       "    }\n",
       "</style>\n",
       "<table border=\"1\" class=\"dataframe\">\n",
       "  <thead>\n",
       "    <tr style=\"text-align: right;\">\n",
       "      <th></th>\n",
       "      <th>AdmissionID</th>\n",
       "      <th>PatientID</th>\n",
       "      <th>AdmissionDate</th>\n",
       "      <th>DischargeDate</th>\n",
       "      <th>DischargeDisposition</th>\n",
       "      <th>Service</th>\n",
       "      <th>PrimaryDiagnosis</th>\n",
       "      <th>ExpectedLOS</th>\n",
       "      <th>ExpectedMortality</th>\n",
       "    </tr>\n",
       "  </thead>\n",
       "  <tbody>\n",
       "    <tr>\n",
       "      <th>0</th>\n",
       "      <td>1</td>\n",
       "      <td>9</td>\n",
       "      <td>2018-01-01</td>\n",
       "      <td>2018-01-07 18:06:06.408</td>\n",
       "      <td>Expired</td>\n",
       "      <td>Cardiology</td>\n",
       "      <td>AMI</td>\n",
       "      <td>9.646857</td>\n",
       "      <td>0.061540</td>\n",
       "    </tr>\n",
       "    <tr>\n",
       "      <th>1</th>\n",
       "      <td>257</td>\n",
       "      <td>93</td>\n",
       "      <td>2018-01-06</td>\n",
       "      <td>2018-01-18 02:59:04.667</td>\n",
       "      <td>Expired</td>\n",
       "      <td>Cardiology</td>\n",
       "      <td>Broken Leg</td>\n",
       "      <td>6.816558</td>\n",
       "      <td>0.628827</td>\n",
       "    </tr>\n",
       "    <tr>\n",
       "      <th>2</th>\n",
       "      <td>152</td>\n",
       "      <td>101</td>\n",
       "      <td>2018-01-07</td>\n",
       "      <td>2018-01-11 16:16:06.782</td>\n",
       "      <td>Expired</td>\n",
       "      <td>Cardiology</td>\n",
       "      <td>Kidney Failure</td>\n",
       "      <td>6.580273</td>\n",
       "      <td>0.573887</td>\n",
       "    </tr>\n",
       "    <tr>\n",
       "      <th>3</th>\n",
       "      <td>361</td>\n",
       "      <td>102</td>\n",
       "      <td>2018-01-07</td>\n",
       "      <td>2018-01-15 04:48:33.134</td>\n",
       "      <td>Expired</td>\n",
       "      <td>Cardiology</td>\n",
       "      <td>Afib</td>\n",
       "      <td>12.794536</td>\n",
       "      <td>0.222163</td>\n",
       "    </tr>\n",
       "    <tr>\n",
       "      <th>4</th>\n",
       "      <td>258</td>\n",
       "      <td>103</td>\n",
       "      <td>2018-01-07</td>\n",
       "      <td>2018-01-15 13:32:36.157</td>\n",
       "      <td>Expired</td>\n",
       "      <td>Cardiology</td>\n",
       "      <td>Broken Leg</td>\n",
       "      <td>2.639297</td>\n",
       "      <td>0.055468</td>\n",
       "    </tr>\n",
       "    <tr>\n",
       "      <th>...</th>\n",
       "      <td>...</td>\n",
       "      <td>...</td>\n",
       "      <td>...</td>\n",
       "      <td>...</td>\n",
       "      <td>...</td>\n",
       "      <td>...</td>\n",
       "      <td>...</td>\n",
       "      <td>...</td>\n",
       "      <td>...</td>\n",
       "    </tr>\n",
       "    <tr>\n",
       "      <th>715</th>\n",
       "      <td>715</td>\n",
       "      <td>716</td>\n",
       "      <td>2018-02-21</td>\n",
       "      <td>2018-03-06 03:31:05.262</td>\n",
       "      <td>Transfer</td>\n",
       "      <td>ICU</td>\n",
       "      <td>Heart Failure</td>\n",
       "      <td>11.362095</td>\n",
       "      <td>0.370695</td>\n",
       "    </tr>\n",
       "    <tr>\n",
       "      <th>716</th>\n",
       "      <td>698</td>\n",
       "      <td>723</td>\n",
       "      <td>2018-02-22</td>\n",
       "      <td>2018-02-26 15:09:02.584</td>\n",
       "      <td>Transfer</td>\n",
       "      <td>ICU</td>\n",
       "      <td>Heart Failure</td>\n",
       "      <td>10.262312</td>\n",
       "      <td>0.812930</td>\n",
       "    </tr>\n",
       "    <tr>\n",
       "      <th>717</th>\n",
       "      <td>704</td>\n",
       "      <td>724</td>\n",
       "      <td>2018-02-22</td>\n",
       "      <td>2018-02-27 07:59:32.385</td>\n",
       "      <td>Transfer</td>\n",
       "      <td>General Medicine</td>\n",
       "      <td>Pneumonia</td>\n",
       "      <td>6.036234</td>\n",
       "      <td>0.094128</td>\n",
       "    </tr>\n",
       "    <tr>\n",
       "      <th>718</th>\n",
       "      <td>716</td>\n",
       "      <td>733</td>\n",
       "      <td>2018-02-22</td>\n",
       "      <td>2018-03-05 12:31:55.958</td>\n",
       "      <td>Transfer</td>\n",
       "      <td>ICU</td>\n",
       "      <td>Heart Failure</td>\n",
       "      <td>13.323413</td>\n",
       "      <td>0.490892</td>\n",
       "    </tr>\n",
       "    <tr>\n",
       "      <th>719</th>\n",
       "      <td>710</td>\n",
       "      <td>742</td>\n",
       "      <td>2018-02-22</td>\n",
       "      <td>2018-03-10 20:38:30.568</td>\n",
       "      <td>Transfer</td>\n",
       "      <td>General Medicine</td>\n",
       "      <td>Diabetes</td>\n",
       "      <td>7.195441</td>\n",
       "      <td>0.286439</td>\n",
       "    </tr>\n",
       "  </tbody>\n",
       "</table>\n",
       "<p>720 rows × 9 columns</p>\n",
       "</div>"
      ],
      "text/plain": [
       "     AdmissionID  PatientID AdmissionDate           DischargeDate  \\\n",
       "0              1          9    2018-01-01 2018-01-07 18:06:06.408   \n",
       "1            257         93    2018-01-06 2018-01-18 02:59:04.667   \n",
       "2            152        101    2018-01-07 2018-01-11 16:16:06.782   \n",
       "3            361        102    2018-01-07 2018-01-15 04:48:33.134   \n",
       "4            258        103    2018-01-07 2018-01-15 13:32:36.157   \n",
       "..           ...        ...           ...                     ...   \n",
       "715          715        716    2018-02-21 2018-03-06 03:31:05.262   \n",
       "716          698        723    2018-02-22 2018-02-26 15:09:02.584   \n",
       "717          704        724    2018-02-22 2018-02-27 07:59:32.385   \n",
       "718          716        733    2018-02-22 2018-03-05 12:31:55.958   \n",
       "719          710        742    2018-02-22 2018-03-10 20:38:30.568   \n",
       "\n",
       "    DischargeDisposition           Service PrimaryDiagnosis  ExpectedLOS  \\\n",
       "0                Expired        Cardiology              AMI     9.646857   \n",
       "1                Expired        Cardiology       Broken Leg     6.816558   \n",
       "2                Expired        Cardiology   Kidney Failure     6.580273   \n",
       "3                Expired        Cardiology             Afib    12.794536   \n",
       "4                Expired        Cardiology       Broken Leg     2.639297   \n",
       "..                   ...               ...              ...          ...   \n",
       "715             Transfer               ICU    Heart Failure    11.362095   \n",
       "716             Transfer               ICU    Heart Failure    10.262312   \n",
       "717             Transfer  General Medicine        Pneumonia     6.036234   \n",
       "718             Transfer               ICU    Heart Failure    13.323413   \n",
       "719             Transfer  General Medicine         Diabetes     7.195441   \n",
       "\n",
       "     ExpectedMortality  \n",
       "0             0.061540  \n",
       "1             0.628827  \n",
       "2             0.573887  \n",
       "3             0.222163  \n",
       "4             0.055468  \n",
       "..                 ...  \n",
       "715           0.370695  \n",
       "716           0.812930  \n",
       "717           0.094128  \n",
       "718           0.490892  \n",
       "719           0.286439  \n",
       "\n",
       "[720 rows x 9 columns]"
      ]
     },
     "execution_count": 33,
     "metadata": {},
     "output_type": "execute_result"
    }
   ],
   "source": [
    "Discharges   = pd.read_excel('Discharges.xlsx')\n",
    "Discharges"
   ]
  },
  {
   "cell_type": "markdown",
   "id": "15d7ce2c",
   "metadata": {},
   "source": [
    "### 53.Data type & info"
   ]
  },
  {
   "cell_type": "code",
   "execution_count": 34,
   "id": "a33de991",
   "metadata": {},
   "outputs": [
    {
     "data": {
      "text/plain": [
       "AdmissionID                      int64\n",
       "PatientID                        int64\n",
       "AdmissionDate           datetime64[ns]\n",
       "DischargeDate           datetime64[ns]\n",
       "DischargeDisposition            object\n",
       "Service                         object\n",
       "PrimaryDiagnosis                object\n",
       "ExpectedLOS                    float64\n",
       "ExpectedMortality              float64\n",
       "dtype: object"
      ]
     },
     "execution_count": 34,
     "metadata": {},
     "output_type": "execute_result"
    }
   ],
   "source": [
    "Discharges.dtypes"
   ]
  },
  {
   "cell_type": "code",
   "execution_count": 35,
   "id": "e0c2817a",
   "metadata": {
    "scrolled": true
   },
   "outputs": [
    {
     "name": "stdout",
     "output_type": "stream",
     "text": [
      "<class 'pandas.core.frame.DataFrame'>\n",
      "RangeIndex: 720 entries, 0 to 719\n",
      "Data columns (total 9 columns):\n",
      " #   Column                Non-Null Count  Dtype         \n",
      "---  ------                --------------  -----         \n",
      " 0   AdmissionID           720 non-null    int64         \n",
      " 1   PatientID             720 non-null    int64         \n",
      " 2   AdmissionDate         720 non-null    datetime64[ns]\n",
      " 3   DischargeDate         720 non-null    datetime64[ns]\n",
      " 4   DischargeDisposition  720 non-null    object        \n",
      " 5   Service               720 non-null    object        \n",
      " 6   PrimaryDiagnosis      720 non-null    object        \n",
      " 7   ExpectedLOS           720 non-null    float64       \n",
      " 8   ExpectedMortality     720 non-null    float64       \n",
      "dtypes: datetime64[ns](2), float64(2), int64(2), object(3)\n",
      "memory usage: 50.8+ KB\n"
     ]
    }
   ],
   "source": [
    "Discharges.info()"
   ]
  },
  {
   "cell_type": "code",
   "execution_count": 36,
   "id": "081be85f",
   "metadata": {},
   "outputs": [
    {
     "data": {
      "text/html": [
       "<div>\n",
       "<style scoped>\n",
       "    .dataframe tbody tr th:only-of-type {\n",
       "        vertical-align: middle;\n",
       "    }\n",
       "\n",
       "    .dataframe tbody tr th {\n",
       "        vertical-align: top;\n",
       "    }\n",
       "\n",
       "    .dataframe thead th {\n",
       "        text-align: right;\n",
       "    }\n",
       "</style>\n",
       "<table border=\"1\" class=\"dataframe\">\n",
       "  <thead>\n",
       "    <tr style=\"text-align: right;\">\n",
       "      <th></th>\n",
       "      <th>AdmissionID</th>\n",
       "      <th>PatientID</th>\n",
       "      <th>ExpectedLOS</th>\n",
       "      <th>ExpectedMortality</th>\n",
       "    </tr>\n",
       "  </thead>\n",
       "  <tbody>\n",
       "    <tr>\n",
       "      <th>count</th>\n",
       "      <td>720.000000</td>\n",
       "      <td>720.000000</td>\n",
       "      <td>720.000000</td>\n",
       "      <td>720.000000</td>\n",
       "    </tr>\n",
       "    <tr>\n",
       "      <th>mean</th>\n",
       "      <td>360.500000</td>\n",
       "      <td>366.158333</td>\n",
       "      <td>8.824589</td>\n",
       "      <td>0.338063</td>\n",
       "    </tr>\n",
       "    <tr>\n",
       "      <th>std</th>\n",
       "      <td>207.990384</td>\n",
       "      <td>218.223501</td>\n",
       "      <td>4.034421</td>\n",
       "      <td>0.238868</td>\n",
       "    </tr>\n",
       "    <tr>\n",
       "      <th>min</th>\n",
       "      <td>1.000000</td>\n",
       "      <td>1.000000</td>\n",
       "      <td>2.012974</td>\n",
       "      <td>0.000006</td>\n",
       "    </tr>\n",
       "    <tr>\n",
       "      <th>25%</th>\n",
       "      <td>180.750000</td>\n",
       "      <td>175.750000</td>\n",
       "      <td>5.138501</td>\n",
       "      <td>0.139771</td>\n",
       "    </tr>\n",
       "    <tr>\n",
       "      <th>50%</th>\n",
       "      <td>360.500000</td>\n",
       "      <td>353.500000</td>\n",
       "      <td>8.633825</td>\n",
       "      <td>0.297242</td>\n",
       "    </tr>\n",
       "    <tr>\n",
       "      <th>75%</th>\n",
       "      <td>540.250000</td>\n",
       "      <td>557.250000</td>\n",
       "      <td>12.107623</td>\n",
       "      <td>0.496387</td>\n",
       "    </tr>\n",
       "    <tr>\n",
       "      <th>max</th>\n",
       "      <td>720.000000</td>\n",
       "      <td>742.000000</td>\n",
       "      <td>16.998213</td>\n",
       "      <td>0.989945</td>\n",
       "    </tr>\n",
       "  </tbody>\n",
       "</table>\n",
       "</div>"
      ],
      "text/plain": [
       "       AdmissionID   PatientID  ExpectedLOS  ExpectedMortality\n",
       "count   720.000000  720.000000   720.000000         720.000000\n",
       "mean    360.500000  366.158333     8.824589           0.338063\n",
       "std     207.990384  218.223501     4.034421           0.238868\n",
       "min       1.000000    1.000000     2.012974           0.000006\n",
       "25%     180.750000  175.750000     5.138501           0.139771\n",
       "50%     360.500000  353.500000     8.633825           0.297242\n",
       "75%     540.250000  557.250000    12.107623           0.496387\n",
       "max     720.000000  742.000000    16.998213           0.989945"
      ]
     },
     "execution_count": 36,
     "metadata": {},
     "output_type": "execute_result"
    }
   ],
   "source": [
    "Discharges.describe()"
   ]
  },
  {
   "cell_type": "code",
   "execution_count": null,
   "id": "4f3f15f2",
   "metadata": {},
   "outputs": [],
   "source": [
    "### 54. Correlation & plot"
   ]
  },
  {
   "cell_type": "code",
   "execution_count": 37,
   "id": "c8c4c6df",
   "metadata": {
    "scrolled": true
   },
   "outputs": [
    {
     "data": {
      "text/html": [
       "<div>\n",
       "<style scoped>\n",
       "    .dataframe tbody tr th:only-of-type {\n",
       "        vertical-align: middle;\n",
       "    }\n",
       "\n",
       "    .dataframe tbody tr th {\n",
       "        vertical-align: top;\n",
       "    }\n",
       "\n",
       "    .dataframe thead th {\n",
       "        text-align: right;\n",
       "    }\n",
       "</style>\n",
       "<table border=\"1\" class=\"dataframe\">\n",
       "  <thead>\n",
       "    <tr style=\"text-align: right;\">\n",
       "      <th></th>\n",
       "      <th>AdmissionID</th>\n",
       "      <th>PatientID</th>\n",
       "      <th>ExpectedLOS</th>\n",
       "      <th>ExpectedMortality</th>\n",
       "    </tr>\n",
       "  </thead>\n",
       "  <tbody>\n",
       "    <tr>\n",
       "      <th>AdmissionID</th>\n",
       "      <td>1.000000</td>\n",
       "      <td>0.302079</td>\n",
       "      <td>-0.070080</td>\n",
       "      <td>0.034083</td>\n",
       "    </tr>\n",
       "    <tr>\n",
       "      <th>PatientID</th>\n",
       "      <td>0.302079</td>\n",
       "      <td>1.000000</td>\n",
       "      <td>-0.015485</td>\n",
       "      <td>0.008014</td>\n",
       "    </tr>\n",
       "    <tr>\n",
       "      <th>ExpectedLOS</th>\n",
       "      <td>-0.070080</td>\n",
       "      <td>-0.015485</td>\n",
       "      <td>1.000000</td>\n",
       "      <td>0.220725</td>\n",
       "    </tr>\n",
       "    <tr>\n",
       "      <th>ExpectedMortality</th>\n",
       "      <td>0.034083</td>\n",
       "      <td>0.008014</td>\n",
       "      <td>0.220725</td>\n",
       "      <td>1.000000</td>\n",
       "    </tr>\n",
       "  </tbody>\n",
       "</table>\n",
       "</div>"
      ],
      "text/plain": [
       "                   AdmissionID  PatientID  ExpectedLOS  ExpectedMortality\n",
       "AdmissionID           1.000000   0.302079    -0.070080           0.034083\n",
       "PatientID             0.302079   1.000000    -0.015485           0.008014\n",
       "ExpectedLOS          -0.070080  -0.015485     1.000000           0.220725\n",
       "ExpectedMortality     0.034083   0.008014     0.220725           1.000000"
      ]
     },
     "execution_count": 37,
     "metadata": {},
     "output_type": "execute_result"
    }
   ],
   "source": [
    "Discharges.corr()"
   ]
  },
  {
   "cell_type": "code",
   "execution_count": 38,
   "id": "38f10991",
   "metadata": {},
   "outputs": [
    {
     "data": {
      "image/png": "[encoded data removed]",
      "text/plain": [
       "<Figure size 432x288 with 2 Axes>"
      ]
     },
     "metadata": {
      "needs_background": "light"
     },
     "output_type": "display_data"
    }
   ],
   "source": [
    "sb.heatmap(Discharges.corr())\n",
    "plt.show()"
   ]
  },
  {
   "cell_type": "code",
   "execution_count": 41,
   "id": "b1d9c6f3",
   "metadata": {},
   "outputs": [
    {
     "data": {
      "image/png": "[encoded data removed]",
      "text/plain": [
       "<Figure size 432x288 with 1 Axes>"
      ]
     },
     "metadata": {
      "needs_background": "light"
     },
     "output_type": "display_data"
    }
   ],
   "source": [
    "Discharges.plot()\n",
    "plt.show()"
   ]
  },
  {
   "cell_type": "markdown",
   "id": "1fe643e3",
   "metadata": {},
   "source": [
    "### 55.Statistics for Data analysis"
   ]
  },
  {
   "cell_type": "code",
   "execution_count": 42,
   "id": "be5f50ba",
   "metadata": {},
   "outputs": [
    {
     "data": {
      "text/plain": [
       "8.82458915915616"
      ]
     },
     "execution_count": 42,
     "metadata": {},
     "output_type": "execute_result"
    }
   ],
   "source": [
    "mean1=Discharges['ExpectedLOS'].mean()\n",
    "mean1\n"
   ]
  },
  {
   "cell_type": "code",
   "execution_count": 44,
   "id": "9ec11550",
   "metadata": {},
   "outputs": [
    {
     "data": {
      "text/plain": [
       "16.998213188933306"
      ]
     },
     "execution_count": 44,
     "metadata": {},
     "output_type": "execute_result"
    }
   ],
   "source": [
    "Maximum=Discharges['ExpectedLOS'].max()\n",
    "Maximum"
   ]
  },
  {
   "cell_type": "code",
   "execution_count": 45,
   "id": "e32b24d9",
   "metadata": {},
   "outputs": [
    {
     "data": {
      "text/plain": [
       "2.0129739231354193"
      ]
     },
     "execution_count": 45,
     "metadata": {},
     "output_type": "execute_result"
    }
   ],
   "source": [
    "Minimum=Discharges['ExpectedLOS'].min()\n",
    "Minimum"
   ]
  },
  {
   "cell_type": "code",
   "execution_count": 46,
   "id": "b55dce84",
   "metadata": {},
   "outputs": [
    {
     "data": {
      "text/plain": [
       "8.633825356915757"
      ]
     },
     "execution_count": 46,
     "metadata": {},
     "output_type": "execute_result"
    }
   ],
   "source": [
    "Median=Discharges['ExpectedLOS'].median()\n",
    "Median"
   ]
  },
  {
   "cell_type": "code",
   "execution_count": null,
   "id": "fb696b49",
   "metadata": {},
   "outputs": [],
   "source": []
  }
 ],
 "metadata": {
  "kernelspec": {
   "display_name": "Python 3 (ipykernel)",
   "language": "python",
   "name": "python3"
  },
  "language_info": {
   "codemirror_mode": {
    "name": "ipython",
    "version": 3
   },
   "file_extension": ".py",
   "mimetype": "text/x-python",
   "name": "python",
   "nbconvert_exporter": "python",
   "pygments_lexer": "ipython3",
   "version": "3.9.12"
  }
 },
 "nbformat": 4,
 "nbformat_minor": 5
}
